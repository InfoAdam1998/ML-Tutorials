{
  "nbformat": 4,
  "nbformat_minor": 0,
  "metadata": {
    "colab": {
      "provenance": []
    },
    "kernelspec": {
      "name": "python3",
      "display_name": "Python 3"
    },
    "language_info": {
      "name": "python"
    }
  },
  "cells": [
    {
      "cell_type": "code",
      "execution_count": 1,
      "metadata": {
        "id": "v4Dhv7uIoiA9"
      },
      "outputs": [],
      "source": [
        "import pandas as pd\n",
        "import numpy as np\n",
        "import matplotlib.pyplot as plt"
      ]
    },
    {
      "cell_type": "code",
      "source": [
        "data = pd.read_csv(\"Social_Network_Ads.csv\")"
      ],
      "metadata": {
        "id": "CG1gAs2-tlzr"
      },
      "execution_count": 2,
      "outputs": []
    },
    {
      "cell_type": "code",
      "source": [
        "data"
      ],
      "metadata": {
        "colab": {
          "base_uri": "https://localhost:8080/",
          "height": 423
        },
        "id": "cRkU1o5PaQgf",
        "outputId": "71328319-ffc7-47b6-a93a-07767d1cad6b"
      },
      "execution_count": 3,
      "outputs": [
        {
          "output_type": "execute_result",
          "data": {
            "text/plain": [
              "     Age  EstimatedSalary  Purchased\n",
              "0     19            19000          0\n",
              "1     35            20000          0\n",
              "2     26            43000          0\n",
              "3     27            57000          0\n",
              "4     19            76000          0\n",
              "..   ...              ...        ...\n",
              "395   46            41000          1\n",
              "396   51            23000          1\n",
              "397   50            20000          1\n",
              "398   36            33000          0\n",
              "399   49            36000          1\n",
              "\n",
              "[400 rows x 3 columns]"
            ],
            "text/html": [
              "\n",
              "  <div id=\"df-32cb9848-1d5b-4e0c-ac02-c361d9fa24a0\" class=\"colab-df-container\">\n",
              "    <div>\n",
              "<style scoped>\n",
              "    .dataframe tbody tr th:only-of-type {\n",
              "        vertical-align: middle;\n",
              "    }\n",
              "\n",
              "    .dataframe tbody tr th {\n",
              "        vertical-align: top;\n",
              "    }\n",
              "\n",
              "    .dataframe thead th {\n",
              "        text-align: right;\n",
              "    }\n",
              "</style>\n",
              "<table border=\"1\" class=\"dataframe\">\n",
              "  <thead>\n",
              "    <tr style=\"text-align: right;\">\n",
              "      <th></th>\n",
              "      <th>Age</th>\n",
              "      <th>EstimatedSalary</th>\n",
              "      <th>Purchased</th>\n",
              "    </tr>\n",
              "  </thead>\n",
              "  <tbody>\n",
              "    <tr>\n",
              "      <th>0</th>\n",
              "      <td>19</td>\n",
              "      <td>19000</td>\n",
              "      <td>0</td>\n",
              "    </tr>\n",
              "    <tr>\n",
              "      <th>1</th>\n",
              "      <td>35</td>\n",
              "      <td>20000</td>\n",
              "      <td>0</td>\n",
              "    </tr>\n",
              "    <tr>\n",
              "      <th>2</th>\n",
              "      <td>26</td>\n",
              "      <td>43000</td>\n",
              "      <td>0</td>\n",
              "    </tr>\n",
              "    <tr>\n",
              "      <th>3</th>\n",
              "      <td>27</td>\n",
              "      <td>57000</td>\n",
              "      <td>0</td>\n",
              "    </tr>\n",
              "    <tr>\n",
              "      <th>4</th>\n",
              "      <td>19</td>\n",
              "      <td>76000</td>\n",
              "      <td>0</td>\n",
              "    </tr>\n",
              "    <tr>\n",
              "      <th>...</th>\n",
              "      <td>...</td>\n",
              "      <td>...</td>\n",
              "      <td>...</td>\n",
              "    </tr>\n",
              "    <tr>\n",
              "      <th>395</th>\n",
              "      <td>46</td>\n",
              "      <td>41000</td>\n",
              "      <td>1</td>\n",
              "    </tr>\n",
              "    <tr>\n",
              "      <th>396</th>\n",
              "      <td>51</td>\n",
              "      <td>23000</td>\n",
              "      <td>1</td>\n",
              "    </tr>\n",
              "    <tr>\n",
              "      <th>397</th>\n",
              "      <td>50</td>\n",
              "      <td>20000</td>\n",
              "      <td>1</td>\n",
              "    </tr>\n",
              "    <tr>\n",
              "      <th>398</th>\n",
              "      <td>36</td>\n",
              "      <td>33000</td>\n",
              "      <td>0</td>\n",
              "    </tr>\n",
              "    <tr>\n",
              "      <th>399</th>\n",
              "      <td>49</td>\n",
              "      <td>36000</td>\n",
              "      <td>1</td>\n",
              "    </tr>\n",
              "  </tbody>\n",
              "</table>\n",
              "<p>400 rows × 3 columns</p>\n",
              "</div>\n",
              "    <div class=\"colab-df-buttons\">\n",
              "\n",
              "  <div class=\"colab-df-container\">\n",
              "    <button class=\"colab-df-convert\" onclick=\"convertToInteractive('df-32cb9848-1d5b-4e0c-ac02-c361d9fa24a0')\"\n",
              "            title=\"Convert this dataframe to an interactive table.\"\n",
              "            style=\"display:none;\">\n",
              "\n",
              "  <svg xmlns=\"http://www.w3.org/2000/svg\" height=\"24px\" viewBox=\"0 -960 960 960\">\n",
              "    <path d=\"M120-120v-720h720v720H120Zm60-500h600v-160H180v160Zm220 220h160v-160H400v160Zm0 220h160v-160H400v160ZM180-400h160v-160H180v160Zm440 0h160v-160H620v160ZM180-180h160v-160H180v160Zm440 0h160v-160H620v160Z\"/>\n",
              "  </svg>\n",
              "    </button>\n",
              "\n",
              "  <style>\n",
              "    .colab-df-container {\n",
              "      display:flex;\n",
              "      gap: 12px;\n",
              "    }\n",
              "\n",
              "    .colab-df-convert {\n",
              "      background-color: #E8F0FE;\n",
              "      border: none;\n",
              "      border-radius: 50%;\n",
              "      cursor: pointer;\n",
              "      display: none;\n",
              "      fill: #1967D2;\n",
              "      height: 32px;\n",
              "      padding: 0 0 0 0;\n",
              "      width: 32px;\n",
              "    }\n",
              "\n",
              "    .colab-df-convert:hover {\n",
              "      background-color: #E2EBFA;\n",
              "      box-shadow: 0px 1px 2px rgba(60, 64, 67, 0.3), 0px 1px 3px 1px rgba(60, 64, 67, 0.15);\n",
              "      fill: #174EA6;\n",
              "    }\n",
              "\n",
              "    .colab-df-buttons div {\n",
              "      margin-bottom: 4px;\n",
              "    }\n",
              "\n",
              "    [theme=dark] .colab-df-convert {\n",
              "      background-color: #3B4455;\n",
              "      fill: #D2E3FC;\n",
              "    }\n",
              "\n",
              "    [theme=dark] .colab-df-convert:hover {\n",
              "      background-color: #434B5C;\n",
              "      box-shadow: 0px 1px 3px 1px rgba(0, 0, 0, 0.15);\n",
              "      filter: drop-shadow(0px 1px 2px rgba(0, 0, 0, 0.3));\n",
              "      fill: #FFFFFF;\n",
              "    }\n",
              "  </style>\n",
              "\n",
              "    <script>\n",
              "      const buttonEl =\n",
              "        document.querySelector('#df-32cb9848-1d5b-4e0c-ac02-c361d9fa24a0 button.colab-df-convert');\n",
              "      buttonEl.style.display =\n",
              "        google.colab.kernel.accessAllowed ? 'block' : 'none';\n",
              "\n",
              "      async function convertToInteractive(key) {\n",
              "        const element = document.querySelector('#df-32cb9848-1d5b-4e0c-ac02-c361d9fa24a0');\n",
              "        const dataTable =\n",
              "          await google.colab.kernel.invokeFunction('convertToInteractive',\n",
              "                                                    [key], {});\n",
              "        if (!dataTable) return;\n",
              "\n",
              "        const docLinkHtml = 'Like what you see? Visit the ' +\n",
              "          '<a target=\"_blank\" href=https://colab.research.google.com/notebooks/data_table.ipynb>data table notebook</a>'\n",
              "          + ' to learn more about interactive tables.';\n",
              "        element.innerHTML = '';\n",
              "        dataTable['output_type'] = 'display_data';\n",
              "        await google.colab.output.renderOutput(dataTable, element);\n",
              "        const docLink = document.createElement('div');\n",
              "        docLink.innerHTML = docLinkHtml;\n",
              "        element.appendChild(docLink);\n",
              "      }\n",
              "    </script>\n",
              "  </div>\n",
              "\n",
              "\n",
              "<div id=\"df-d81ec237-06b2-42ca-a527-f23d5a09a143\">\n",
              "  <button class=\"colab-df-quickchart\" onclick=\"quickchart('df-d81ec237-06b2-42ca-a527-f23d5a09a143')\"\n",
              "            title=\"Suggest charts\"\n",
              "            style=\"display:none;\">\n",
              "\n",
              "<svg xmlns=\"http://www.w3.org/2000/svg\" height=\"24px\"viewBox=\"0 0 24 24\"\n",
              "     width=\"24px\">\n",
              "    <g>\n",
              "        <path d=\"M19 3H5c-1.1 0-2 .9-2 2v14c0 1.1.9 2 2 2h14c1.1 0 2-.9 2-2V5c0-1.1-.9-2-2-2zM9 17H7v-7h2v7zm4 0h-2V7h2v10zm4 0h-2v-4h2v4z\"/>\n",
              "    </g>\n",
              "</svg>\n",
              "  </button>\n",
              "\n",
              "<style>\n",
              "  .colab-df-quickchart {\n",
              "      --bg-color: #E8F0FE;\n",
              "      --fill-color: #1967D2;\n",
              "      --hover-bg-color: #E2EBFA;\n",
              "      --hover-fill-color: #174EA6;\n",
              "      --disabled-fill-color: #AAA;\n",
              "      --disabled-bg-color: #DDD;\n",
              "  }\n",
              "\n",
              "  [theme=dark] .colab-df-quickchart {\n",
              "      --bg-color: #3B4455;\n",
              "      --fill-color: #D2E3FC;\n",
              "      --hover-bg-color: #434B5C;\n",
              "      --hover-fill-color: #FFFFFF;\n",
              "      --disabled-bg-color: #3B4455;\n",
              "      --disabled-fill-color: #666;\n",
              "  }\n",
              "\n",
              "  .colab-df-quickchart {\n",
              "    background-color: var(--bg-color);\n",
              "    border: none;\n",
              "    border-radius: 50%;\n",
              "    cursor: pointer;\n",
              "    display: none;\n",
              "    fill: var(--fill-color);\n",
              "    height: 32px;\n",
              "    padding: 0;\n",
              "    width: 32px;\n",
              "  }\n",
              "\n",
              "  .colab-df-quickchart:hover {\n",
              "    background-color: var(--hover-bg-color);\n",
              "    box-shadow: 0 1px 2px rgba(60, 64, 67, 0.3), 0 1px 3px 1px rgba(60, 64, 67, 0.15);\n",
              "    fill: var(--button-hover-fill-color);\n",
              "  }\n",
              "\n",
              "  .colab-df-quickchart-complete:disabled,\n",
              "  .colab-df-quickchart-complete:disabled:hover {\n",
              "    background-color: var(--disabled-bg-color);\n",
              "    fill: var(--disabled-fill-color);\n",
              "    box-shadow: none;\n",
              "  }\n",
              "\n",
              "  .colab-df-spinner {\n",
              "    border: 2px solid var(--fill-color);\n",
              "    border-color: transparent;\n",
              "    border-bottom-color: var(--fill-color);\n",
              "    animation:\n",
              "      spin 1s steps(1) infinite;\n",
              "  }\n",
              "\n",
              "  @keyframes spin {\n",
              "    0% {\n",
              "      border-color: transparent;\n",
              "      border-bottom-color: var(--fill-color);\n",
              "      border-left-color: var(--fill-color);\n",
              "    }\n",
              "    20% {\n",
              "      border-color: transparent;\n",
              "      border-left-color: var(--fill-color);\n",
              "      border-top-color: var(--fill-color);\n",
              "    }\n",
              "    30% {\n",
              "      border-color: transparent;\n",
              "      border-left-color: var(--fill-color);\n",
              "      border-top-color: var(--fill-color);\n",
              "      border-right-color: var(--fill-color);\n",
              "    }\n",
              "    40% {\n",
              "      border-color: transparent;\n",
              "      border-right-color: var(--fill-color);\n",
              "      border-top-color: var(--fill-color);\n",
              "    }\n",
              "    60% {\n",
              "      border-color: transparent;\n",
              "      border-right-color: var(--fill-color);\n",
              "    }\n",
              "    80% {\n",
              "      border-color: transparent;\n",
              "      border-right-color: var(--fill-color);\n",
              "      border-bottom-color: var(--fill-color);\n",
              "    }\n",
              "    90% {\n",
              "      border-color: transparent;\n",
              "      border-bottom-color: var(--fill-color);\n",
              "    }\n",
              "  }\n",
              "</style>\n",
              "\n",
              "  <script>\n",
              "    async function quickchart(key) {\n",
              "      const quickchartButtonEl =\n",
              "        document.querySelector('#' + key + ' button');\n",
              "      quickchartButtonEl.disabled = true;  // To prevent multiple clicks.\n",
              "      quickchartButtonEl.classList.add('colab-df-spinner');\n",
              "      try {\n",
              "        const charts = await google.colab.kernel.invokeFunction(\n",
              "            'suggestCharts', [key], {});\n",
              "      } catch (error) {\n",
              "        console.error('Error during call to suggestCharts:', error);\n",
              "      }\n",
              "      quickchartButtonEl.classList.remove('colab-df-spinner');\n",
              "      quickchartButtonEl.classList.add('colab-df-quickchart-complete');\n",
              "    }\n",
              "    (() => {\n",
              "      let quickchartButtonEl =\n",
              "        document.querySelector('#df-d81ec237-06b2-42ca-a527-f23d5a09a143 button');\n",
              "      quickchartButtonEl.style.display =\n",
              "        google.colab.kernel.accessAllowed ? 'block' : 'none';\n",
              "    })();\n",
              "  </script>\n",
              "</div>\n",
              "    </div>\n",
              "  </div>\n"
            ],
            "application/vnd.google.colaboratory.intrinsic+json": {
              "type": "dataframe",
              "variable_name": "data",
              "summary": "{\n  \"name\": \"data\",\n  \"rows\": 400,\n  \"fields\": [\n    {\n      \"column\": \"Age\",\n      \"properties\": {\n        \"dtype\": \"number\",\n        \"std\": 10,\n        \"min\": 18,\n        \"max\": 60,\n        \"num_unique_values\": 43,\n        \"samples\": [\n          50,\n          39,\n          38\n        ],\n        \"semantic_type\": \"\",\n        \"description\": \"\"\n      }\n    },\n    {\n      \"column\": \"EstimatedSalary\",\n      \"properties\": {\n        \"dtype\": \"number\",\n        \"std\": 34096,\n        \"min\": 15000,\n        \"max\": 150000,\n        \"num_unique_values\": 117,\n        \"samples\": [\n          117000,\n          76000,\n          88000\n        ],\n        \"semantic_type\": \"\",\n        \"description\": \"\"\n      }\n    },\n    {\n      \"column\": \"Purchased\",\n      \"properties\": {\n        \"dtype\": \"number\",\n        \"std\": 0,\n        \"min\": 0,\n        \"max\": 1,\n        \"num_unique_values\": 2,\n        \"samples\": [\n          1,\n          0\n        ],\n        \"semantic_type\": \"\",\n        \"description\": \"\"\n      }\n    }\n  ]\n}"
            }
          },
          "metadata": {},
          "execution_count": 3
        }
      ]
    },
    {
      "cell_type": "code",
      "source": [
        "X = data.iloc[:, :-1].values"
      ],
      "metadata": {
        "id": "gPhK5cq_ZthT"
      },
      "execution_count": 4,
      "outputs": []
    },
    {
      "cell_type": "code",
      "source": [
        "y = data.iloc[:, -1].values"
      ],
      "metadata": {
        "id": "tisC7GJcaHDr"
      },
      "execution_count": 5,
      "outputs": []
    },
    {
      "cell_type": "code",
      "source": [
        "from sklearn.model_selection import train_test_split\n",
        "X_train, X_test, y_train, y_test = train_test_split(X, y, test_size = 0.25, random_state=0)"
      ],
      "metadata": {
        "id": "3_Z2PAvjaMMw"
      },
      "execution_count": 6,
      "outputs": []
    },
    {
      "cell_type": "code",
      "source": [
        "X_train"
      ],
      "metadata": {
        "id": "vkr8N8T6cW83",
        "colab": {
          "base_uri": "https://localhost:8080/"
        },
        "outputId": "c6144412-4265-46a0-e748-537cec123cee"
      },
      "execution_count": 7,
      "outputs": [
        {
          "output_type": "execute_result",
          "data": {
            "text/plain": [
              "array([[    44,  39000],\n",
              "       [    32, 120000],\n",
              "       [    38,  50000],\n",
              "       [    32, 135000],\n",
              "       [    52,  21000],\n",
              "       [    53, 104000],\n",
              "       [    39,  42000],\n",
              "       [    38,  61000],\n",
              "       [    36,  50000],\n",
              "       [    36,  63000],\n",
              "       [    35,  25000],\n",
              "       [    35,  50000],\n",
              "       [    42,  73000],\n",
              "       [    47,  49000],\n",
              "       [    59,  29000],\n",
              "       [    49,  65000],\n",
              "       [    45, 131000],\n",
              "       [    31,  89000],\n",
              "       [    46,  82000],\n",
              "       [    47,  51000],\n",
              "       [    26,  15000],\n",
              "       [    60, 102000],\n",
              "       [    38, 112000],\n",
              "       [    40, 107000],\n",
              "       [    42,  53000],\n",
              "       [    35,  59000],\n",
              "       [    48,  41000],\n",
              "       [    48, 134000],\n",
              "       [    38, 113000],\n",
              "       [    29, 148000],\n",
              "       [    26,  15000],\n",
              "       [    60,  42000],\n",
              "       [    24,  19000],\n",
              "       [    42, 149000],\n",
              "       [    46,  96000],\n",
              "       [    28,  59000],\n",
              "       [    39,  96000],\n",
              "       [    28,  89000],\n",
              "       [    41,  72000],\n",
              "       [    45,  26000],\n",
              "       [    33,  69000],\n",
              "       [    20,  82000],\n",
              "       [    31,  74000],\n",
              "       [    42,  80000],\n",
              "       [    35,  72000],\n",
              "       [    33, 149000],\n",
              "       [    40,  71000],\n",
              "       [    51, 146000],\n",
              "       [    46,  79000],\n",
              "       [    35,  75000],\n",
              "       [    38,  51000],\n",
              "       [    36,  75000],\n",
              "       [    37,  78000],\n",
              "       [    38,  61000],\n",
              "       [    60, 108000],\n",
              "       [    20,  82000],\n",
              "       [    57,  74000],\n",
              "       [    42,  65000],\n",
              "       [    26,  80000],\n",
              "       [    46, 117000],\n",
              "       [    35,  61000],\n",
              "       [    21,  68000],\n",
              "       [    28,  44000],\n",
              "       [    41,  87000],\n",
              "       [    37,  33000],\n",
              "       [    27,  90000],\n",
              "       [    39,  42000],\n",
              "       [    28, 123000],\n",
              "       [    31, 118000],\n",
              "       [    25,  87000],\n",
              "       [    35,  71000],\n",
              "       [    37,  70000],\n",
              "       [    35,  39000],\n",
              "       [    47,  23000],\n",
              "       [    35, 147000],\n",
              "       [    48, 138000],\n",
              "       [    26,  86000],\n",
              "       [    25,  79000],\n",
              "       [    52, 138000],\n",
              "       [    51,  23000],\n",
              "       [    35,  60000],\n",
              "       [    33, 113000],\n",
              "       [    30, 107000],\n",
              "       [    48,  33000],\n",
              "       [    41,  80000],\n",
              "       [    48,  96000],\n",
              "       [    31,  18000],\n",
              "       [    31,  71000],\n",
              "       [    43, 129000],\n",
              "       [    59,  76000],\n",
              "       [    18,  44000],\n",
              "       [    36, 118000],\n",
              "       [    42,  90000],\n",
              "       [    47,  30000],\n",
              "       [    26,  43000],\n",
              "       [    40,  78000],\n",
              "       [    46,  59000],\n",
              "       [    59,  42000],\n",
              "       [    46,  74000],\n",
              "       [    35,  91000],\n",
              "       [    28,  59000],\n",
              "       [    40,  57000],\n",
              "       [    59, 143000],\n",
              "       [    57,  26000],\n",
              "       [    52,  38000],\n",
              "       [    47, 113000],\n",
              "       [    53, 143000],\n",
              "       [    35,  27000],\n",
              "       [    58, 101000],\n",
              "       [    45,  45000],\n",
              "       [    23,  82000],\n",
              "       [    46,  23000],\n",
              "       [    42,  65000],\n",
              "       [    28,  84000],\n",
              "       [    38,  59000],\n",
              "       [    26,  84000],\n",
              "       [    29,  28000],\n",
              "       [    37,  71000],\n",
              "       [    22,  55000],\n",
              "       [    48,  35000],\n",
              "       [    49,  28000],\n",
              "       [    38,  65000],\n",
              "       [    27,  17000],\n",
              "       [    46,  28000],\n",
              "       [    48, 141000],\n",
              "       [    26,  17000],\n",
              "       [    35,  97000],\n",
              "       [    39,  59000],\n",
              "       [    24,  27000],\n",
              "       [    32,  18000],\n",
              "       [    46,  88000],\n",
              "       [    35,  58000],\n",
              "       [    56,  60000],\n",
              "       [    47,  34000],\n",
              "       [    40,  72000],\n",
              "       [    32, 100000],\n",
              "       [    19,  21000],\n",
              "       [    25,  90000],\n",
              "       [    35,  88000],\n",
              "       [    28,  32000],\n",
              "       [    50,  20000],\n",
              "       [    40,  59000],\n",
              "       [    50,  44000],\n",
              "       [    35,  72000],\n",
              "       [    40, 142000],\n",
              "       [    46,  32000],\n",
              "       [    39,  71000],\n",
              "       [    20,  74000],\n",
              "       [    29,  75000],\n",
              "       [    31,  76000],\n",
              "       [    47,  25000],\n",
              "       [    40,  61000],\n",
              "       [    34, 112000],\n",
              "       [    38,  80000],\n",
              "       [    42,  75000],\n",
              "       [    47,  47000],\n",
              "       [    39,  75000],\n",
              "       [    19,  25000],\n",
              "       [    37,  80000],\n",
              "       [    36,  60000],\n",
              "       [    41,  52000],\n",
              "       [    36, 125000],\n",
              "       [    48,  29000],\n",
              "       [    36, 126000],\n",
              "       [    51, 134000],\n",
              "       [    27,  57000],\n",
              "       [    38,  71000],\n",
              "       [    39,  61000],\n",
              "       [    22,  27000],\n",
              "       [    33,  60000],\n",
              "       [    48,  74000],\n",
              "       [    58,  23000],\n",
              "       [    53,  72000],\n",
              "       [    32, 117000],\n",
              "       [    54,  70000],\n",
              "       [    30,  80000],\n",
              "       [    58,  95000],\n",
              "       [    26,  52000],\n",
              "       [    45,  79000],\n",
              "       [    24,  55000],\n",
              "       [    40,  75000],\n",
              "       [    33,  28000],\n",
              "       [    44, 139000],\n",
              "       [    22,  18000],\n",
              "       [    33,  51000],\n",
              "       [    43, 133000],\n",
              "       [    24,  32000],\n",
              "       [    46,  22000],\n",
              "       [    35,  55000],\n",
              "       [    54, 104000],\n",
              "       [    48, 119000],\n",
              "       [    35,  53000],\n",
              "       [    37, 144000],\n",
              "       [    23,  66000],\n",
              "       [    37, 137000],\n",
              "       [    31,  58000],\n",
              "       [    33,  41000],\n",
              "       [    45,  22000],\n",
              "       [    30,  15000],\n",
              "       [    19,  19000],\n",
              "       [    49,  74000],\n",
              "       [    39, 122000],\n",
              "       [    35,  73000],\n",
              "       [    39,  71000],\n",
              "       [    24,  23000],\n",
              "       [    41,  72000],\n",
              "       [    29,  83000],\n",
              "       [    54,  26000],\n",
              "       [    35,  44000],\n",
              "       [    37,  75000],\n",
              "       [    29,  47000],\n",
              "       [    31,  68000],\n",
              "       [    42,  54000],\n",
              "       [    30, 135000],\n",
              "       [    52, 114000],\n",
              "       [    50,  36000],\n",
              "       [    56, 133000],\n",
              "       [    29,  61000],\n",
              "       [    30,  89000],\n",
              "       [    26,  16000],\n",
              "       [    33,  31000],\n",
              "       [    41,  72000],\n",
              "       [    36,  33000],\n",
              "       [    55, 125000],\n",
              "       [    48, 131000],\n",
              "       [    41,  71000],\n",
              "       [    30,  62000],\n",
              "       [    37,  72000],\n",
              "       [    41,  63000],\n",
              "       [    58,  47000],\n",
              "       [    30, 116000],\n",
              "       [    20,  49000],\n",
              "       [    37,  74000],\n",
              "       [    41,  59000],\n",
              "       [    49,  89000],\n",
              "       [    28,  79000],\n",
              "       [    53,  82000],\n",
              "       [    40,  57000],\n",
              "       [    60,  34000],\n",
              "       [    35, 108000],\n",
              "       [    21,  72000],\n",
              "       [    38,  71000],\n",
              "       [    39, 106000],\n",
              "       [    37,  57000],\n",
              "       [    26,  72000],\n",
              "       [    35,  23000],\n",
              "       [    54, 108000],\n",
              "       [    30,  17000],\n",
              "       [    39, 134000],\n",
              "       [    29,  43000],\n",
              "       [    33,  43000],\n",
              "       [    35,  38000],\n",
              "       [    41,  45000],\n",
              "       [    41,  72000],\n",
              "       [    39, 134000],\n",
              "       [    27, 137000],\n",
              "       [    21,  16000],\n",
              "       [    26,  32000],\n",
              "       [    31,  66000],\n",
              "       [    39,  73000],\n",
              "       [    41,  79000],\n",
              "       [    47,  50000],\n",
              "       [    41,  30000],\n",
              "       [    37,  93000],\n",
              "       [    60,  46000],\n",
              "       [    25,  22000],\n",
              "       [    28,  37000],\n",
              "       [    38,  55000],\n",
              "       [    36,  54000],\n",
              "       [    20,  36000],\n",
              "       [    56, 104000],\n",
              "       [    40,  57000],\n",
              "       [    42, 108000],\n",
              "       [    20,  23000],\n",
              "       [    40,  65000],\n",
              "       [    47,  20000],\n",
              "       [    18,  86000],\n",
              "       [    35,  79000],\n",
              "       [    57,  33000],\n",
              "       [    34,  72000],\n",
              "       [    49,  39000],\n",
              "       [    27,  31000],\n",
              "       [    19,  70000],\n",
              "       [    39,  79000],\n",
              "       [    26,  81000],\n",
              "       [    25,  80000],\n",
              "       [    28,  85000],\n",
              "       [    55,  39000],\n",
              "       [    50,  88000],\n",
              "       [    49,  88000],\n",
              "       [    52, 150000],\n",
              "       [    35,  65000],\n",
              "       [    42,  54000],\n",
              "       [    34,  43000],\n",
              "       [    37,  52000],\n",
              "       [    48,  30000],\n",
              "       [    29,  43000],\n",
              "       [    36,  52000],\n",
              "       [    27,  54000],\n",
              "       [    26, 118000]])"
            ]
          },
          "metadata": {},
          "execution_count": 7
        }
      ]
    },
    {
      "cell_type": "code",
      "source": [
        "from sklearn.preprocessing import StandardScaler\n",
        "sc = StandardScaler()\n",
        "X_train = sc.fit_transform(X_train)\n",
        "X_test = sc.transform(X_test)"
      ],
      "metadata": {
        "id": "SUOJqruYaxnF"
      },
      "execution_count": 8,
      "outputs": []
    },
    {
      "cell_type": "code",
      "source": [
        "X_train"
      ],
      "metadata": {
        "id": "TsGr4HfdcRQB",
        "colab": {
          "base_uri": "https://localhost:8080/"
        },
        "outputId": "648c60c9-278a-4f27-d98b-c3c9556ed8e0"
      },
      "execution_count": 9,
      "outputs": [
        {
          "output_type": "execute_result",
          "data": {
            "text/plain": [
              "array([[ 0.58164944, -0.88670699],\n",
              "       [-0.60673761,  1.46173768],\n",
              "       [-0.01254409, -0.5677824 ],\n",
              "       [-0.60673761,  1.89663484],\n",
              "       [ 1.37390747, -1.40858358],\n",
              "       [ 1.47293972,  0.99784738],\n",
              "       [ 0.08648817, -0.79972756],\n",
              "       [-0.01254409, -0.24885782],\n",
              "       [-0.21060859, -0.5677824 ],\n",
              "       [-0.21060859, -0.19087153],\n",
              "       [-0.30964085, -1.29261101],\n",
              "       [-0.30964085, -0.5677824 ],\n",
              "       [ 0.38358493,  0.09905991],\n",
              "       [ 0.8787462 , -0.59677555],\n",
              "       [ 2.06713324, -1.17663843],\n",
              "       [ 1.07681071, -0.13288524],\n",
              "       [ 0.68068169,  1.78066227],\n",
              "       [-0.70576986,  0.56295021],\n",
              "       [ 0.77971394,  0.35999821],\n",
              "       [ 0.8787462 , -0.53878926],\n",
              "       [-1.20093113, -1.58254245],\n",
              "       [ 2.1661655 ,  0.93986109],\n",
              "       [-0.01254409,  1.22979253],\n",
              "       [ 0.18552042,  1.08482681],\n",
              "       [ 0.38358493, -0.48080297],\n",
              "       [-0.30964085, -0.30684411],\n",
              "       [ 0.97777845, -0.8287207 ],\n",
              "       [ 0.97777845,  1.8676417 ],\n",
              "       [-0.01254409,  1.25878567],\n",
              "       [-0.90383437,  2.27354572],\n",
              "       [-1.20093113, -1.58254245],\n",
              "       [ 2.1661655 , -0.79972756],\n",
              "       [-1.39899564, -1.46656987],\n",
              "       [ 0.38358493,  2.30253886],\n",
              "       [ 0.77971394,  0.76590222],\n",
              "       [-1.00286662, -0.30684411],\n",
              "       [ 0.08648817,  0.76590222],\n",
              "       [-1.00286662,  0.56295021],\n",
              "       [ 0.28455268,  0.07006676],\n",
              "       [ 0.68068169, -1.26361786],\n",
              "       [-0.50770535, -0.01691267],\n",
              "       [-1.79512465,  0.35999821],\n",
              "       [-0.70576986,  0.12805305],\n",
              "       [ 0.38358493,  0.30201192],\n",
              "       [-0.30964085,  0.07006676],\n",
              "       [-0.50770535,  2.30253886],\n",
              "       [ 0.18552042,  0.04107362],\n",
              "       [ 1.27487521,  2.21555943],\n",
              "       [ 0.77971394,  0.27301877],\n",
              "       [-0.30964085,  0.1570462 ],\n",
              "       [-0.01254409, -0.53878926],\n",
              "       [-0.21060859,  0.1570462 ],\n",
              "       [-0.11157634,  0.24402563],\n",
              "       [-0.01254409, -0.24885782],\n",
              "       [ 2.1661655 ,  1.11381995],\n",
              "       [-1.79512465,  0.35999821],\n",
              "       [ 1.86906873,  0.12805305],\n",
              "       [ 0.38358493, -0.13288524],\n",
              "       [-1.20093113,  0.30201192],\n",
              "       [ 0.77971394,  1.37475825],\n",
              "       [-0.30964085, -0.24885782],\n",
              "       [-1.6960924 , -0.04590581],\n",
              "       [-1.00286662, -0.74174127],\n",
              "       [ 0.28455268,  0.50496393],\n",
              "       [-0.11157634, -1.06066585],\n",
              "       [-1.10189888,  0.59194336],\n",
              "       [ 0.08648817, -0.79972756],\n",
              "       [-1.00286662,  1.54871711],\n",
              "       [-0.70576986,  1.40375139],\n",
              "       [-1.29996338,  0.50496393],\n",
              "       [-0.30964085,  0.04107362],\n",
              "       [-0.11157634,  0.01208048],\n",
              "       [-0.30964085, -0.88670699],\n",
              "       [ 0.8787462 , -1.3505973 ],\n",
              "       [-0.30964085,  2.24455257],\n",
              "       [ 0.97777845,  1.98361427],\n",
              "       [-1.20093113,  0.47597078],\n",
              "       [-1.29996338,  0.27301877],\n",
              "       [ 1.37390747,  1.98361427],\n",
              "       [ 1.27487521, -1.3505973 ],\n",
              "       [-0.30964085, -0.27785096],\n",
              "       [-0.50770535,  1.25878567],\n",
              "       [-0.80480212,  1.08482681],\n",
              "       [ 0.97777845, -1.06066585],\n",
              "       [ 0.28455268,  0.30201192],\n",
              "       [ 0.97777845,  0.76590222],\n",
              "       [-0.70576986, -1.49556302],\n",
              "       [-0.70576986,  0.04107362],\n",
              "       [ 0.48261718,  1.72267598],\n",
              "       [ 2.06713324,  0.18603934],\n",
              "       [-1.99318916, -0.74174127],\n",
              "       [-0.21060859,  1.40375139],\n",
              "       [ 0.38358493,  0.59194336],\n",
              "       [ 0.8787462 , -1.14764529],\n",
              "       [-1.20093113, -0.77073441],\n",
              "       [ 0.18552042,  0.24402563],\n",
              "       [ 0.77971394, -0.30684411],\n",
              "       [ 2.06713324, -0.79972756],\n",
              "       [ 0.77971394,  0.12805305],\n",
              "       [-0.30964085,  0.6209365 ],\n",
              "       [-1.00286662, -0.30684411],\n",
              "       [ 0.18552042, -0.3648304 ],\n",
              "       [ 2.06713324,  2.12857999],\n",
              "       [ 1.86906873, -1.26361786],\n",
              "       [ 1.37390747, -0.91570013],\n",
              "       [ 0.8787462 ,  1.25878567],\n",
              "       [ 1.47293972,  2.12857999],\n",
              "       [-0.30964085, -1.23462472],\n",
              "       [ 1.96810099,  0.91086794],\n",
              "       [ 0.68068169, -0.71274813],\n",
              "       [-1.49802789,  0.35999821],\n",
              "       [ 0.77971394, -1.3505973 ],\n",
              "       [ 0.38358493, -0.13288524],\n",
              "       [-1.00286662,  0.41798449],\n",
              "       [-0.01254409, -0.30684411],\n",
              "       [-1.20093113,  0.41798449],\n",
              "       [-0.90383437, -1.20563157],\n",
              "       [-0.11157634,  0.04107362],\n",
              "       [-1.59706014, -0.42281668],\n",
              "       [ 0.97777845, -1.00267957],\n",
              "       [ 1.07681071, -1.20563157],\n",
              "       [-0.01254409, -0.13288524],\n",
              "       [-1.10189888, -1.52455616],\n",
              "       [ 0.77971394, -1.20563157],\n",
              "       [ 0.97777845,  2.07059371],\n",
              "       [-1.20093113, -1.52455616],\n",
              "       [-0.30964085,  0.79489537],\n",
              "       [ 0.08648817, -0.30684411],\n",
              "       [-1.39899564, -1.23462472],\n",
              "       [-0.60673761, -1.49556302],\n",
              "       [ 0.77971394,  0.53395707],\n",
              "       [-0.30964085, -0.33583725],\n",
              "       [ 1.77003648, -0.27785096],\n",
              "       [ 0.8787462 , -1.03167271],\n",
              "       [ 0.18552042,  0.07006676],\n",
              "       [-0.60673761,  0.8818748 ],\n",
              "       [-1.89415691, -1.40858358],\n",
              "       [-1.29996338,  0.59194336],\n",
              "       [-0.30964085,  0.53395707],\n",
              "       [-1.00286662, -1.089659  ],\n",
              "       [ 1.17584296, -1.43757673],\n",
              "       [ 0.18552042, -0.30684411],\n",
              "       [ 1.17584296, -0.74174127],\n",
              "       [-0.30964085,  0.07006676],\n",
              "       [ 0.18552042,  2.09958685],\n",
              "       [ 0.77971394, -1.089659  ],\n",
              "       [ 0.08648817,  0.04107362],\n",
              "       [-1.79512465,  0.12805305],\n",
              "       [-0.90383437,  0.1570462 ],\n",
              "       [-0.70576986,  0.18603934],\n",
              "       [ 0.8787462 , -1.29261101],\n",
              "       [ 0.18552042, -0.24885782],\n",
              "       [-0.4086731 ,  1.22979253],\n",
              "       [-0.01254409,  0.30201192],\n",
              "       [ 0.38358493,  0.1570462 ],\n",
              "       [ 0.8787462 , -0.65476184],\n",
              "       [ 0.08648817,  0.1570462 ],\n",
              "       [-1.89415691, -1.29261101],\n",
              "       [-0.11157634,  0.30201192],\n",
              "       [-0.21060859, -0.27785096],\n",
              "       [ 0.28455268, -0.50979612],\n",
              "       [-0.21060859,  1.6067034 ],\n",
              "       [ 0.97777845, -1.17663843],\n",
              "       [-0.21060859,  1.63569655],\n",
              "       [ 1.27487521,  1.8676417 ],\n",
              "       [-1.10189888, -0.3648304 ],\n",
              "       [-0.01254409,  0.04107362],\n",
              "       [ 0.08648817, -0.24885782],\n",
              "       [-1.59706014, -1.23462472],\n",
              "       [-0.50770535, -0.27785096],\n",
              "       [ 0.97777845,  0.12805305],\n",
              "       [ 1.96810099, -1.3505973 ],\n",
              "       [ 1.47293972,  0.07006676],\n",
              "       [-0.60673761,  1.37475825],\n",
              "       [ 1.57197197,  0.01208048],\n",
              "       [-0.80480212,  0.30201192],\n",
              "       [ 1.96810099,  0.73690908],\n",
              "       [-1.20093113, -0.50979612],\n",
              "       [ 0.68068169,  0.27301877],\n",
              "       [-1.39899564, -0.42281668],\n",
              "       [ 0.18552042,  0.1570462 ],\n",
              "       [-0.50770535, -1.20563157],\n",
              "       [ 0.58164944,  2.01260742],\n",
              "       [-1.59706014, -1.49556302],\n",
              "       [-0.50770535, -0.53878926],\n",
              "       [ 0.48261718,  1.83864855],\n",
              "       [-1.39899564, -1.089659  ],\n",
              "       [ 0.77971394, -1.37959044],\n",
              "       [-0.30964085, -0.42281668],\n",
              "       [ 1.57197197,  0.99784738],\n",
              "       [ 0.97777845,  1.43274454],\n",
              "       [-0.30964085, -0.48080297],\n",
              "       [-0.11157634,  2.15757314],\n",
              "       [-1.49802789, -0.1038921 ],\n",
              "       [-0.11157634,  1.95462113],\n",
              "       [-0.70576986, -0.33583725],\n",
              "       [-0.50770535, -0.8287207 ],\n",
              "       [ 0.68068169, -1.37959044],\n",
              "       [-0.80480212, -1.58254245],\n",
              "       [-1.89415691, -1.46656987],\n",
              "       [ 1.07681071,  0.12805305],\n",
              "       [ 0.08648817,  1.51972397],\n",
              "       [-0.30964085,  0.09905991],\n",
              "       [ 0.08648817,  0.04107362],\n",
              "       [-1.39899564, -1.3505973 ],\n",
              "       [ 0.28455268,  0.07006676],\n",
              "       [-0.90383437,  0.38899135],\n",
              "       [ 1.57197197, -1.26361786],\n",
              "       [-0.30964085, -0.74174127],\n",
              "       [-0.11157634,  0.1570462 ],\n",
              "       [-0.90383437, -0.65476184],\n",
              "       [-0.70576986, -0.04590581],\n",
              "       [ 0.38358493, -0.45180983],\n",
              "       [-0.80480212,  1.89663484],\n",
              "       [ 1.37390747,  1.28777882],\n",
              "       [ 1.17584296, -0.97368642],\n",
              "       [ 1.77003648,  1.83864855],\n",
              "       [-0.90383437, -0.24885782],\n",
              "       [-0.80480212,  0.56295021],\n",
              "       [-1.20093113, -1.5535493 ],\n",
              "       [-0.50770535, -1.11865214],\n",
              "       [ 0.28455268,  0.07006676],\n",
              "       [-0.21060859, -1.06066585],\n",
              "       [ 1.67100423,  1.6067034 ],\n",
              "       [ 0.97777845,  1.78066227],\n",
              "       [ 0.28455268,  0.04107362],\n",
              "       [-0.80480212, -0.21986468],\n",
              "       [-0.11157634,  0.07006676],\n",
              "       [ 0.28455268, -0.19087153],\n",
              "       [ 1.96810099, -0.65476184],\n",
              "       [-0.80480212,  1.3457651 ],\n",
              "       [-1.79512465, -0.59677555],\n",
              "       [-0.11157634,  0.12805305],\n",
              "       [ 0.28455268, -0.30684411],\n",
              "       [ 1.07681071,  0.56295021],\n",
              "       [-1.00286662,  0.27301877],\n",
              "       [ 1.47293972,  0.35999821],\n",
              "       [ 0.18552042, -0.3648304 ],\n",
              "       [ 2.1661655 , -1.03167271],\n",
              "       [-0.30964085,  1.11381995],\n",
              "       [-1.6960924 ,  0.07006676],\n",
              "       [-0.01254409,  0.04107362],\n",
              "       [ 0.08648817,  1.05583366],\n",
              "       [-0.11157634, -0.3648304 ],\n",
              "       [-1.20093113,  0.07006676],\n",
              "       [-0.30964085, -1.3505973 ],\n",
              "       [ 1.57197197,  1.11381995],\n",
              "       [-0.80480212, -1.52455616],\n",
              "       [ 0.08648817,  1.8676417 ],\n",
              "       [-0.90383437, -0.77073441],\n",
              "       [-0.50770535, -0.77073441],\n",
              "       [-0.30964085, -0.91570013],\n",
              "       [ 0.28455268, -0.71274813],\n",
              "       [ 0.28455268,  0.07006676],\n",
              "       [ 0.08648817,  1.8676417 ],\n",
              "       [-1.10189888,  1.95462113],\n",
              "       [-1.6960924 , -1.5535493 ],\n",
              "       [-1.20093113, -1.089659  ],\n",
              "       [-0.70576986, -0.1038921 ],\n",
              "       [ 0.08648817,  0.09905991],\n",
              "       [ 0.28455268,  0.27301877],\n",
              "       [ 0.8787462 , -0.5677824 ],\n",
              "       [ 0.28455268, -1.14764529],\n",
              "       [-0.11157634,  0.67892279],\n",
              "       [ 2.1661655 , -0.68375498],\n",
              "       [-1.29996338, -1.37959044],\n",
              "       [-1.00286662, -0.94469328],\n",
              "       [-0.01254409, -0.42281668],\n",
              "       [-0.21060859, -0.45180983],\n",
              "       [-1.79512465, -0.97368642],\n",
              "       [ 1.77003648,  0.99784738],\n",
              "       [ 0.18552042, -0.3648304 ],\n",
              "       [ 0.38358493,  1.11381995],\n",
              "       [-1.79512465, -1.3505973 ],\n",
              "       [ 0.18552042, -0.13288524],\n",
              "       [ 0.8787462 , -1.43757673],\n",
              "       [-1.99318916,  0.47597078],\n",
              "       [-0.30964085,  0.27301877],\n",
              "       [ 1.86906873, -1.06066585],\n",
              "       [-0.4086731 ,  0.07006676],\n",
              "       [ 1.07681071, -0.88670699],\n",
              "       [-1.10189888, -1.11865214],\n",
              "       [-1.89415691,  0.01208048],\n",
              "       [ 0.08648817,  0.27301877],\n",
              "       [-1.20093113,  0.33100506],\n",
              "       [-1.29996338,  0.30201192],\n",
              "       [-1.00286662,  0.44697764],\n",
              "       [ 1.67100423, -0.88670699],\n",
              "       [ 1.17584296,  0.53395707],\n",
              "       [ 1.07681071,  0.53395707],\n",
              "       [ 1.37390747,  2.331532  ],\n",
              "       [-0.30964085, -0.13288524],\n",
              "       [ 0.38358493, -0.45180983],\n",
              "       [-0.4086731 , -0.77073441],\n",
              "       [-0.11157634, -0.50979612],\n",
              "       [ 0.97777845, -1.14764529],\n",
              "       [-0.90383437, -0.77073441],\n",
              "       [-0.21060859, -0.50979612],\n",
              "       [-1.10189888, -0.45180983],\n",
              "       [-1.20093113,  1.40375139]])"
            ]
          },
          "metadata": {},
          "execution_count": 9
        }
      ]
    },
    {
      "cell_type": "code",
      "source": [
        "X_test"
      ],
      "metadata": {
        "id": "Khp3_N-lde9z",
        "colab": {
          "base_uri": "https://localhost:8080/"
        },
        "outputId": "625382cc-81be-4763-ea9a-c33d70ffcb20"
      },
      "execution_count": 10,
      "outputs": [
        {
          "output_type": "execute_result",
          "data": {
            "text/plain": [
              "array([[-0.80480212,  0.50496393],\n",
              "       [-0.01254409, -0.5677824 ],\n",
              "       [-0.30964085,  0.1570462 ],\n",
              "       [-0.80480212,  0.27301877],\n",
              "       [-0.30964085, -0.5677824 ],\n",
              "       [-1.10189888, -1.43757673],\n",
              "       [-0.70576986, -1.58254245],\n",
              "       [-0.21060859,  2.15757314],\n",
              "       [-1.99318916, -0.04590581],\n",
              "       [ 0.8787462 , -0.77073441],\n",
              "       [-0.80480212, -0.59677555],\n",
              "       [-1.00286662, -0.42281668],\n",
              "       [-0.11157634, -0.42281668],\n",
              "       [ 0.08648817,  0.21503249],\n",
              "       [-1.79512465,  0.47597078],\n",
              "       [-0.60673761,  1.37475825],\n",
              "       [-0.11157634,  0.21503249],\n",
              "       [-1.89415691,  0.44697764],\n",
              "       [ 1.67100423,  1.75166912],\n",
              "       [-0.30964085, -1.37959044],\n",
              "       [-0.30964085, -0.65476184],\n",
              "       [ 0.8787462 ,  2.15757314],\n",
              "       [ 0.28455268, -0.53878926],\n",
              "       [ 0.8787462 ,  1.02684052],\n",
              "       [-1.49802789, -1.20563157],\n",
              "       [ 1.07681071,  2.07059371],\n",
              "       [-1.00286662,  0.50496393],\n",
              "       [-0.90383437,  0.30201192],\n",
              "       [-0.11157634, -0.21986468],\n",
              "       [-0.60673761,  0.47597078],\n",
              "       [-1.6960924 ,  0.53395707],\n",
              "       [-0.11157634,  0.27301877],\n",
              "       [ 1.86906873, -0.27785096],\n",
              "       [-0.11157634, -0.48080297],\n",
              "       [-1.39899564, -0.33583725],\n",
              "       [-1.99318916, -0.50979612],\n",
              "       [-1.59706014,  0.33100506],\n",
              "       [-0.4086731 , -0.77073441],\n",
              "       [-0.70576986, -1.03167271],\n",
              "       [ 1.07681071, -0.97368642],\n",
              "       [-1.10189888,  0.53395707],\n",
              "       [ 0.28455268, -0.50979612],\n",
              "       [-1.10189888,  0.41798449],\n",
              "       [-0.30964085, -1.43757673],\n",
              "       [ 0.48261718,  1.22979253],\n",
              "       [-1.10189888, -0.33583725],\n",
              "       [-0.11157634,  0.30201192],\n",
              "       [ 1.37390747,  0.59194336],\n",
              "       [-1.20093113, -1.14764529],\n",
              "       [ 1.07681071,  0.47597078],\n",
              "       [ 1.86906873,  1.51972397],\n",
              "       [-0.4086731 , -1.29261101],\n",
              "       [-0.30964085, -0.3648304 ],\n",
              "       [-0.4086731 ,  1.31677196],\n",
              "       [ 2.06713324,  0.53395707],\n",
              "       [ 0.68068169, -1.089659  ],\n",
              "       [-0.90383437,  0.38899135],\n",
              "       [-1.20093113,  0.30201192],\n",
              "       [ 1.07681071, -1.20563157],\n",
              "       [-1.49802789, -1.43757673],\n",
              "       [-0.60673761, -1.49556302],\n",
              "       [ 2.1661655 , -0.79972756],\n",
              "       [-1.89415691,  0.18603934],\n",
              "       [-0.21060859,  0.85288166],\n",
              "       [-1.89415691, -1.26361786],\n",
              "       [ 2.1661655 ,  0.38899135],\n",
              "       [-1.39899564,  0.56295021],\n",
              "       [-1.10189888, -0.33583725],\n",
              "       [ 0.18552042, -0.65476184],\n",
              "       [ 0.38358493,  0.01208048],\n",
              "       [-0.60673761,  2.331532  ],\n",
              "       [-0.30964085,  0.21503249],\n",
              "       [-1.59706014, -0.19087153],\n",
              "       [ 0.68068169, -1.37959044],\n",
              "       [-1.10189888,  0.56295021],\n",
              "       [-1.99318916,  0.35999821],\n",
              "       [ 0.38358493,  0.27301877],\n",
              "       [ 0.18552042, -0.27785096],\n",
              "       [ 1.47293972, -1.03167271],\n",
              "       [ 0.8787462 ,  1.08482681],\n",
              "       [ 1.96810099,  2.15757314],\n",
              "       [ 2.06713324,  0.38899135],\n",
              "       [-1.39899564, -0.42281668],\n",
              "       [-1.20093113, -1.00267957],\n",
              "       [ 1.96810099, -0.91570013],\n",
              "       [ 0.38358493,  0.30201192],\n",
              "       [ 0.18552042,  0.1570462 ],\n",
              "       [ 2.06713324,  1.75166912],\n",
              "       [ 0.77971394, -0.8287207 ],\n",
              "       [ 0.28455268, -0.27785096],\n",
              "       [ 0.38358493, -0.16187839],\n",
              "       [-0.11157634,  2.21555943],\n",
              "       [-1.49802789, -0.62576869],\n",
              "       [-1.29996338, -1.06066585],\n",
              "       [-1.39899564,  0.41798449],\n",
              "       [-1.10189888,  0.76590222],\n",
              "       [-1.49802789, -0.19087153],\n",
              "       [ 0.97777845, -1.06066585],\n",
              "       [ 0.97777845,  0.59194336],\n",
              "       [ 0.38358493,  0.99784738]])"
            ]
          },
          "metadata": {},
          "execution_count": 10
        }
      ]
    },
    {
      "cell_type": "markdown",
      "source": [
        "**Classifiers section**"
      ],
      "metadata": {
        "id": "XTVDVOP5XTrn"
      }
    },
    {
      "cell_type": "code",
      "source": [
        "from sklearn.linear_model import LogisticRegression\n",
        "logistic_regression = LogisticRegression(random_state=0)\n",
        "logistic_regression.fit(X_train, y_train)"
      ],
      "metadata": {
        "colab": {
          "base_uri": "https://localhost:8080/",
          "height": 74
        },
        "id": "Y3q0vNZQd1F8",
        "outputId": "9a1d5fec-9b8f-4a18-aea6-70f2dd3ec75b"
      },
      "execution_count": 11,
      "outputs": [
        {
          "output_type": "execute_result",
          "data": {
            "text/plain": [
              "LogisticRegression(random_state=0)"
            ],
            "text/html": [
              "<style>#sk-container-id-1 {color: black;background-color: white;}#sk-container-id-1 pre{padding: 0;}#sk-container-id-1 div.sk-toggleable {background-color: white;}#sk-container-id-1 label.sk-toggleable__label {cursor: pointer;display: block;width: 100%;margin-bottom: 0;padding: 0.3em;box-sizing: border-box;text-align: center;}#sk-container-id-1 label.sk-toggleable__label-arrow:before {content: \"▸\";float: left;margin-right: 0.25em;color: #696969;}#sk-container-id-1 label.sk-toggleable__label-arrow:hover:before {color: black;}#sk-container-id-1 div.sk-estimator:hover label.sk-toggleable__label-arrow:before {color: black;}#sk-container-id-1 div.sk-toggleable__content {max-height: 0;max-width: 0;overflow: hidden;text-align: left;background-color: #f0f8ff;}#sk-container-id-1 div.sk-toggleable__content pre {margin: 0.2em;color: black;border-radius: 0.25em;background-color: #f0f8ff;}#sk-container-id-1 input.sk-toggleable__control:checked~div.sk-toggleable__content {max-height: 200px;max-width: 100%;overflow: auto;}#sk-container-id-1 input.sk-toggleable__control:checked~label.sk-toggleable__label-arrow:before {content: \"▾\";}#sk-container-id-1 div.sk-estimator input.sk-toggleable__control:checked~label.sk-toggleable__label {background-color: #d4ebff;}#sk-container-id-1 div.sk-label input.sk-toggleable__control:checked~label.sk-toggleable__label {background-color: #d4ebff;}#sk-container-id-1 input.sk-hidden--visually {border: 0;clip: rect(1px 1px 1px 1px);clip: rect(1px, 1px, 1px, 1px);height: 1px;margin: -1px;overflow: hidden;padding: 0;position: absolute;width: 1px;}#sk-container-id-1 div.sk-estimator {font-family: monospace;background-color: #f0f8ff;border: 1px dotted black;border-radius: 0.25em;box-sizing: border-box;margin-bottom: 0.5em;}#sk-container-id-1 div.sk-estimator:hover {background-color: #d4ebff;}#sk-container-id-1 div.sk-parallel-item::after {content: \"\";width: 100%;border-bottom: 1px solid gray;flex-grow: 1;}#sk-container-id-1 div.sk-label:hover label.sk-toggleable__label {background-color: #d4ebff;}#sk-container-id-1 div.sk-serial::before {content: \"\";position: absolute;border-left: 1px solid gray;box-sizing: border-box;top: 0;bottom: 0;left: 50%;z-index: 0;}#sk-container-id-1 div.sk-serial {display: flex;flex-direction: column;align-items: center;background-color: white;padding-right: 0.2em;padding-left: 0.2em;position: relative;}#sk-container-id-1 div.sk-item {position: relative;z-index: 1;}#sk-container-id-1 div.sk-parallel {display: flex;align-items: stretch;justify-content: center;background-color: white;position: relative;}#sk-container-id-1 div.sk-item::before, #sk-container-id-1 div.sk-parallel-item::before {content: \"\";position: absolute;border-left: 1px solid gray;box-sizing: border-box;top: 0;bottom: 0;left: 50%;z-index: -1;}#sk-container-id-1 div.sk-parallel-item {display: flex;flex-direction: column;z-index: 1;position: relative;background-color: white;}#sk-container-id-1 div.sk-parallel-item:first-child::after {align-self: flex-end;width: 50%;}#sk-container-id-1 div.sk-parallel-item:last-child::after {align-self: flex-start;width: 50%;}#sk-container-id-1 div.sk-parallel-item:only-child::after {width: 0;}#sk-container-id-1 div.sk-dashed-wrapped {border: 1px dashed gray;margin: 0 0.4em 0.5em 0.4em;box-sizing: border-box;padding-bottom: 0.4em;background-color: white;}#sk-container-id-1 div.sk-label label {font-family: monospace;font-weight: bold;display: inline-block;line-height: 1.2em;}#sk-container-id-1 div.sk-label-container {text-align: center;}#sk-container-id-1 div.sk-container {/* jupyter's `normalize.less` sets `[hidden] { display: none; }` but bootstrap.min.css set `[hidden] { display: none !important; }` so we also need the `!important` here to be able to override the default hidden behavior on the sphinx rendered scikit-learn.org. See: https://github.com/scikit-learn/scikit-learn/issues/21755 */display: inline-block !important;position: relative;}#sk-container-id-1 div.sk-text-repr-fallback {display: none;}</style><div id=\"sk-container-id-1\" class=\"sk-top-container\"><div class=\"sk-text-repr-fallback\"><pre>LogisticRegression(random_state=0)</pre><b>In a Jupyter environment, please rerun this cell to show the HTML representation or trust the notebook. <br />On GitHub, the HTML representation is unable to render, please try loading this page with nbviewer.org.</b></div><div class=\"sk-container\" hidden><div class=\"sk-item\"><div class=\"sk-estimator sk-toggleable\"><input class=\"sk-toggleable__control sk-hidden--visually\" id=\"sk-estimator-id-1\" type=\"checkbox\" checked><label for=\"sk-estimator-id-1\" class=\"sk-toggleable__label sk-toggleable__label-arrow\">LogisticRegression</label><div class=\"sk-toggleable__content\"><pre>LogisticRegression(random_state=0)</pre></div></div></div></div></div>"
            ]
          },
          "metadata": {},
          "execution_count": 11
        }
      ]
    },
    {
      "cell_type": "code",
      "source": [
        "from sklearn.neighbors import KNeighborsClassifier\n",
        "knearest = KNeighborsClassifier(n_neighbors=5, p=2, metric='minkowski')\n",
        "knearest.fit(X_train, y_train)"
      ],
      "metadata": {
        "colab": {
          "base_uri": "https://localhost:8080/",
          "height": 74
        },
        "id": "tjCjW_HHTNzX",
        "outputId": "006aac1a-ec8e-4bb1-fa35-c1d85d8b2233"
      },
      "execution_count": 12,
      "outputs": [
        {
          "output_type": "execute_result",
          "data": {
            "text/plain": [
              "KNeighborsClassifier()"
            ],
            "text/html": [
              "<style>#sk-container-id-2 {color: black;background-color: white;}#sk-container-id-2 pre{padding: 0;}#sk-container-id-2 div.sk-toggleable {background-color: white;}#sk-container-id-2 label.sk-toggleable__label {cursor: pointer;display: block;width: 100%;margin-bottom: 0;padding: 0.3em;box-sizing: border-box;text-align: center;}#sk-container-id-2 label.sk-toggleable__label-arrow:before {content: \"▸\";float: left;margin-right: 0.25em;color: #696969;}#sk-container-id-2 label.sk-toggleable__label-arrow:hover:before {color: black;}#sk-container-id-2 div.sk-estimator:hover label.sk-toggleable__label-arrow:before {color: black;}#sk-container-id-2 div.sk-toggleable__content {max-height: 0;max-width: 0;overflow: hidden;text-align: left;background-color: #f0f8ff;}#sk-container-id-2 div.sk-toggleable__content pre {margin: 0.2em;color: black;border-radius: 0.25em;background-color: #f0f8ff;}#sk-container-id-2 input.sk-toggleable__control:checked~div.sk-toggleable__content {max-height: 200px;max-width: 100%;overflow: auto;}#sk-container-id-2 input.sk-toggleable__control:checked~label.sk-toggleable__label-arrow:before {content: \"▾\";}#sk-container-id-2 div.sk-estimator input.sk-toggleable__control:checked~label.sk-toggleable__label {background-color: #d4ebff;}#sk-container-id-2 div.sk-label input.sk-toggleable__control:checked~label.sk-toggleable__label {background-color: #d4ebff;}#sk-container-id-2 input.sk-hidden--visually {border: 0;clip: rect(1px 1px 1px 1px);clip: rect(1px, 1px, 1px, 1px);height: 1px;margin: -1px;overflow: hidden;padding: 0;position: absolute;width: 1px;}#sk-container-id-2 div.sk-estimator {font-family: monospace;background-color: #f0f8ff;border: 1px dotted black;border-radius: 0.25em;box-sizing: border-box;margin-bottom: 0.5em;}#sk-container-id-2 div.sk-estimator:hover {background-color: #d4ebff;}#sk-container-id-2 div.sk-parallel-item::after {content: \"\";width: 100%;border-bottom: 1px solid gray;flex-grow: 1;}#sk-container-id-2 div.sk-label:hover label.sk-toggleable__label {background-color: #d4ebff;}#sk-container-id-2 div.sk-serial::before {content: \"\";position: absolute;border-left: 1px solid gray;box-sizing: border-box;top: 0;bottom: 0;left: 50%;z-index: 0;}#sk-container-id-2 div.sk-serial {display: flex;flex-direction: column;align-items: center;background-color: white;padding-right: 0.2em;padding-left: 0.2em;position: relative;}#sk-container-id-2 div.sk-item {position: relative;z-index: 1;}#sk-container-id-2 div.sk-parallel {display: flex;align-items: stretch;justify-content: center;background-color: white;position: relative;}#sk-container-id-2 div.sk-item::before, #sk-container-id-2 div.sk-parallel-item::before {content: \"\";position: absolute;border-left: 1px solid gray;box-sizing: border-box;top: 0;bottom: 0;left: 50%;z-index: -1;}#sk-container-id-2 div.sk-parallel-item {display: flex;flex-direction: column;z-index: 1;position: relative;background-color: white;}#sk-container-id-2 div.sk-parallel-item:first-child::after {align-self: flex-end;width: 50%;}#sk-container-id-2 div.sk-parallel-item:last-child::after {align-self: flex-start;width: 50%;}#sk-container-id-2 div.sk-parallel-item:only-child::after {width: 0;}#sk-container-id-2 div.sk-dashed-wrapped {border: 1px dashed gray;margin: 0 0.4em 0.5em 0.4em;box-sizing: border-box;padding-bottom: 0.4em;background-color: white;}#sk-container-id-2 div.sk-label label {font-family: monospace;font-weight: bold;display: inline-block;line-height: 1.2em;}#sk-container-id-2 div.sk-label-container {text-align: center;}#sk-container-id-2 div.sk-container {/* jupyter's `normalize.less` sets `[hidden] { display: none; }` but bootstrap.min.css set `[hidden] { display: none !important; }` so we also need the `!important` here to be able to override the default hidden behavior on the sphinx rendered scikit-learn.org. See: https://github.com/scikit-learn/scikit-learn/issues/21755 */display: inline-block !important;position: relative;}#sk-container-id-2 div.sk-text-repr-fallback {display: none;}</style><div id=\"sk-container-id-2\" class=\"sk-top-container\"><div class=\"sk-text-repr-fallback\"><pre>KNeighborsClassifier()</pre><b>In a Jupyter environment, please rerun this cell to show the HTML representation or trust the notebook. <br />On GitHub, the HTML representation is unable to render, please try loading this page with nbviewer.org.</b></div><div class=\"sk-container\" hidden><div class=\"sk-item\"><div class=\"sk-estimator sk-toggleable\"><input class=\"sk-toggleable__control sk-hidden--visually\" id=\"sk-estimator-id-2\" type=\"checkbox\" checked><label for=\"sk-estimator-id-2\" class=\"sk-toggleable__label sk-toggleable__label-arrow\">KNeighborsClassifier</label><div class=\"sk-toggleable__content\"><pre>KNeighborsClassifier()</pre></div></div></div></div></div>"
            ]
          },
          "metadata": {},
          "execution_count": 12
        }
      ]
    },
    {
      "cell_type": "code",
      "source": [
        "from sklearn.svm import SVC\n",
        "svm = SVC(kernel='rbf', random_state = 0)\n",
        "svm.fit(X_train, y_train)"
      ],
      "metadata": {
        "colab": {
          "base_uri": "https://localhost:8080/",
          "height": 74
        },
        "id": "kkYJo5a7vbmm",
        "outputId": "a28904d3-2464-458a-dbe7-1f803045f280"
      },
      "execution_count": 13,
      "outputs": [
        {
          "output_type": "execute_result",
          "data": {
            "text/plain": [
              "SVC(random_state=0)"
            ],
            "text/html": [
              "<style>#sk-container-id-3 {color: black;background-color: white;}#sk-container-id-3 pre{padding: 0;}#sk-container-id-3 div.sk-toggleable {background-color: white;}#sk-container-id-3 label.sk-toggleable__label {cursor: pointer;display: block;width: 100%;margin-bottom: 0;padding: 0.3em;box-sizing: border-box;text-align: center;}#sk-container-id-3 label.sk-toggleable__label-arrow:before {content: \"▸\";float: left;margin-right: 0.25em;color: #696969;}#sk-container-id-3 label.sk-toggleable__label-arrow:hover:before {color: black;}#sk-container-id-3 div.sk-estimator:hover label.sk-toggleable__label-arrow:before {color: black;}#sk-container-id-3 div.sk-toggleable__content {max-height: 0;max-width: 0;overflow: hidden;text-align: left;background-color: #f0f8ff;}#sk-container-id-3 div.sk-toggleable__content pre {margin: 0.2em;color: black;border-radius: 0.25em;background-color: #f0f8ff;}#sk-container-id-3 input.sk-toggleable__control:checked~div.sk-toggleable__content {max-height: 200px;max-width: 100%;overflow: auto;}#sk-container-id-3 input.sk-toggleable__control:checked~label.sk-toggleable__label-arrow:before {content: \"▾\";}#sk-container-id-3 div.sk-estimator input.sk-toggleable__control:checked~label.sk-toggleable__label {background-color: #d4ebff;}#sk-container-id-3 div.sk-label input.sk-toggleable__control:checked~label.sk-toggleable__label {background-color: #d4ebff;}#sk-container-id-3 input.sk-hidden--visually {border: 0;clip: rect(1px 1px 1px 1px);clip: rect(1px, 1px, 1px, 1px);height: 1px;margin: -1px;overflow: hidden;padding: 0;position: absolute;width: 1px;}#sk-container-id-3 div.sk-estimator {font-family: monospace;background-color: #f0f8ff;border: 1px dotted black;border-radius: 0.25em;box-sizing: border-box;margin-bottom: 0.5em;}#sk-container-id-3 div.sk-estimator:hover {background-color: #d4ebff;}#sk-container-id-3 div.sk-parallel-item::after {content: \"\";width: 100%;border-bottom: 1px solid gray;flex-grow: 1;}#sk-container-id-3 div.sk-label:hover label.sk-toggleable__label {background-color: #d4ebff;}#sk-container-id-3 div.sk-serial::before {content: \"\";position: absolute;border-left: 1px solid gray;box-sizing: border-box;top: 0;bottom: 0;left: 50%;z-index: 0;}#sk-container-id-3 div.sk-serial {display: flex;flex-direction: column;align-items: center;background-color: white;padding-right: 0.2em;padding-left: 0.2em;position: relative;}#sk-container-id-3 div.sk-item {position: relative;z-index: 1;}#sk-container-id-3 div.sk-parallel {display: flex;align-items: stretch;justify-content: center;background-color: white;position: relative;}#sk-container-id-3 div.sk-item::before, #sk-container-id-3 div.sk-parallel-item::before {content: \"\";position: absolute;border-left: 1px solid gray;box-sizing: border-box;top: 0;bottom: 0;left: 50%;z-index: -1;}#sk-container-id-3 div.sk-parallel-item {display: flex;flex-direction: column;z-index: 1;position: relative;background-color: white;}#sk-container-id-3 div.sk-parallel-item:first-child::after {align-self: flex-end;width: 50%;}#sk-container-id-3 div.sk-parallel-item:last-child::after {align-self: flex-start;width: 50%;}#sk-container-id-3 div.sk-parallel-item:only-child::after {width: 0;}#sk-container-id-3 div.sk-dashed-wrapped {border: 1px dashed gray;margin: 0 0.4em 0.5em 0.4em;box-sizing: border-box;padding-bottom: 0.4em;background-color: white;}#sk-container-id-3 div.sk-label label {font-family: monospace;font-weight: bold;display: inline-block;line-height: 1.2em;}#sk-container-id-3 div.sk-label-container {text-align: center;}#sk-container-id-3 div.sk-container {/* jupyter's `normalize.less` sets `[hidden] { display: none; }` but bootstrap.min.css set `[hidden] { display: none !important; }` so we also need the `!important` here to be able to override the default hidden behavior on the sphinx rendered scikit-learn.org. See: https://github.com/scikit-learn/scikit-learn/issues/21755 */display: inline-block !important;position: relative;}#sk-container-id-3 div.sk-text-repr-fallback {display: none;}</style><div id=\"sk-container-id-3\" class=\"sk-top-container\"><div class=\"sk-text-repr-fallback\"><pre>SVC(random_state=0)</pre><b>In a Jupyter environment, please rerun this cell to show the HTML representation or trust the notebook. <br />On GitHub, the HTML representation is unable to render, please try loading this page with nbviewer.org.</b></div><div class=\"sk-container\" hidden><div class=\"sk-item\"><div class=\"sk-estimator sk-toggleable\"><input class=\"sk-toggleable__control sk-hidden--visually\" id=\"sk-estimator-id-3\" type=\"checkbox\" checked><label for=\"sk-estimator-id-3\" class=\"sk-toggleable__label sk-toggleable__label-arrow\">SVC</label><div class=\"sk-toggleable__content\"><pre>SVC(random_state=0)</pre></div></div></div></div></div>"
            ]
          },
          "metadata": {},
          "execution_count": 13
        }
      ]
    },
    {
      "cell_type": "code",
      "source": [
        "from sklearn.tree import DecisionTreeClassifier\n",
        "dt = DecisionTreeClassifier(criterion=\"entropy\")\n",
        "dt.fit(X_train, y_train)"
      ],
      "metadata": {
        "colab": {
          "base_uri": "https://localhost:8080/",
          "height": 74
        },
        "id": "988vN-uc519V",
        "outputId": "438aec7c-c67d-4bd0-fdc4-56d1db6ca2a4"
      },
      "execution_count": 14,
      "outputs": [
        {
          "output_type": "execute_result",
          "data": {
            "text/plain": [
              "DecisionTreeClassifier(criterion='entropy')"
            ],
            "text/html": [
              "<style>#sk-container-id-4 {color: black;background-color: white;}#sk-container-id-4 pre{padding: 0;}#sk-container-id-4 div.sk-toggleable {background-color: white;}#sk-container-id-4 label.sk-toggleable__label {cursor: pointer;display: block;width: 100%;margin-bottom: 0;padding: 0.3em;box-sizing: border-box;text-align: center;}#sk-container-id-4 label.sk-toggleable__label-arrow:before {content: \"▸\";float: left;margin-right: 0.25em;color: #696969;}#sk-container-id-4 label.sk-toggleable__label-arrow:hover:before {color: black;}#sk-container-id-4 div.sk-estimator:hover label.sk-toggleable__label-arrow:before {color: black;}#sk-container-id-4 div.sk-toggleable__content {max-height: 0;max-width: 0;overflow: hidden;text-align: left;background-color: #f0f8ff;}#sk-container-id-4 div.sk-toggleable__content pre {margin: 0.2em;color: black;border-radius: 0.25em;background-color: #f0f8ff;}#sk-container-id-4 input.sk-toggleable__control:checked~div.sk-toggleable__content {max-height: 200px;max-width: 100%;overflow: auto;}#sk-container-id-4 input.sk-toggleable__control:checked~label.sk-toggleable__label-arrow:before {content: \"▾\";}#sk-container-id-4 div.sk-estimator input.sk-toggleable__control:checked~label.sk-toggleable__label {background-color: #d4ebff;}#sk-container-id-4 div.sk-label input.sk-toggleable__control:checked~label.sk-toggleable__label {background-color: #d4ebff;}#sk-container-id-4 input.sk-hidden--visually {border: 0;clip: rect(1px 1px 1px 1px);clip: rect(1px, 1px, 1px, 1px);height: 1px;margin: -1px;overflow: hidden;padding: 0;position: absolute;width: 1px;}#sk-container-id-4 div.sk-estimator {font-family: monospace;background-color: #f0f8ff;border: 1px dotted black;border-radius: 0.25em;box-sizing: border-box;margin-bottom: 0.5em;}#sk-container-id-4 div.sk-estimator:hover {background-color: #d4ebff;}#sk-container-id-4 div.sk-parallel-item::after {content: \"\";width: 100%;border-bottom: 1px solid gray;flex-grow: 1;}#sk-container-id-4 div.sk-label:hover label.sk-toggleable__label {background-color: #d4ebff;}#sk-container-id-4 div.sk-serial::before {content: \"\";position: absolute;border-left: 1px solid gray;box-sizing: border-box;top: 0;bottom: 0;left: 50%;z-index: 0;}#sk-container-id-4 div.sk-serial {display: flex;flex-direction: column;align-items: center;background-color: white;padding-right: 0.2em;padding-left: 0.2em;position: relative;}#sk-container-id-4 div.sk-item {position: relative;z-index: 1;}#sk-container-id-4 div.sk-parallel {display: flex;align-items: stretch;justify-content: center;background-color: white;position: relative;}#sk-container-id-4 div.sk-item::before, #sk-container-id-4 div.sk-parallel-item::before {content: \"\";position: absolute;border-left: 1px solid gray;box-sizing: border-box;top: 0;bottom: 0;left: 50%;z-index: -1;}#sk-container-id-4 div.sk-parallel-item {display: flex;flex-direction: column;z-index: 1;position: relative;background-color: white;}#sk-container-id-4 div.sk-parallel-item:first-child::after {align-self: flex-end;width: 50%;}#sk-container-id-4 div.sk-parallel-item:last-child::after {align-self: flex-start;width: 50%;}#sk-container-id-4 div.sk-parallel-item:only-child::after {width: 0;}#sk-container-id-4 div.sk-dashed-wrapped {border: 1px dashed gray;margin: 0 0.4em 0.5em 0.4em;box-sizing: border-box;padding-bottom: 0.4em;background-color: white;}#sk-container-id-4 div.sk-label label {font-family: monospace;font-weight: bold;display: inline-block;line-height: 1.2em;}#sk-container-id-4 div.sk-label-container {text-align: center;}#sk-container-id-4 div.sk-container {/* jupyter's `normalize.less` sets `[hidden] { display: none; }` but bootstrap.min.css set `[hidden] { display: none !important; }` so we also need the `!important` here to be able to override the default hidden behavior on the sphinx rendered scikit-learn.org. See: https://github.com/scikit-learn/scikit-learn/issues/21755 */display: inline-block !important;position: relative;}#sk-container-id-4 div.sk-text-repr-fallback {display: none;}</style><div id=\"sk-container-id-4\" class=\"sk-top-container\"><div class=\"sk-text-repr-fallback\"><pre>DecisionTreeClassifier(criterion=&#x27;entropy&#x27;)</pre><b>In a Jupyter environment, please rerun this cell to show the HTML representation or trust the notebook. <br />On GitHub, the HTML representation is unable to render, please try loading this page with nbviewer.org.</b></div><div class=\"sk-container\" hidden><div class=\"sk-item\"><div class=\"sk-estimator sk-toggleable\"><input class=\"sk-toggleable__control sk-hidden--visually\" id=\"sk-estimator-id-4\" type=\"checkbox\" checked><label for=\"sk-estimator-id-4\" class=\"sk-toggleable__label sk-toggleable__label-arrow\">DecisionTreeClassifier</label><div class=\"sk-toggleable__content\"><pre>DecisionTreeClassifier(criterion=&#x27;entropy&#x27;)</pre></div></div></div></div></div>"
            ]
          },
          "metadata": {},
          "execution_count": 14
        }
      ]
    },
    {
      "cell_type": "code",
      "source": [
        "from sklearn.ensemble import RandomForestClassifier\n",
        "rf = RandomForestClassifier(n_estimators=100, criterion = \"entropy\", random_state=0)\n",
        "rf.fit(X_train, y_train)"
      ],
      "metadata": {
        "colab": {
          "base_uri": "https://localhost:8080/",
          "height": 74
        },
        "id": "vkhA7GLvCwxd",
        "outputId": "c7a93dc8-3425-40c1-b430-1d38dcbfa295"
      },
      "execution_count": 15,
      "outputs": [
        {
          "output_type": "execute_result",
          "data": {
            "text/plain": [
              "RandomForestClassifier(criterion='entropy', random_state=0)"
            ],
            "text/html": [
              "<style>#sk-container-id-5 {color: black;background-color: white;}#sk-container-id-5 pre{padding: 0;}#sk-container-id-5 div.sk-toggleable {background-color: white;}#sk-container-id-5 label.sk-toggleable__label {cursor: pointer;display: block;width: 100%;margin-bottom: 0;padding: 0.3em;box-sizing: border-box;text-align: center;}#sk-container-id-5 label.sk-toggleable__label-arrow:before {content: \"▸\";float: left;margin-right: 0.25em;color: #696969;}#sk-container-id-5 label.sk-toggleable__label-arrow:hover:before {color: black;}#sk-container-id-5 div.sk-estimator:hover label.sk-toggleable__label-arrow:before {color: black;}#sk-container-id-5 div.sk-toggleable__content {max-height: 0;max-width: 0;overflow: hidden;text-align: left;background-color: #f0f8ff;}#sk-container-id-5 div.sk-toggleable__content pre {margin: 0.2em;color: black;border-radius: 0.25em;background-color: #f0f8ff;}#sk-container-id-5 input.sk-toggleable__control:checked~div.sk-toggleable__content {max-height: 200px;max-width: 100%;overflow: auto;}#sk-container-id-5 input.sk-toggleable__control:checked~label.sk-toggleable__label-arrow:before {content: \"▾\";}#sk-container-id-5 div.sk-estimator input.sk-toggleable__control:checked~label.sk-toggleable__label {background-color: #d4ebff;}#sk-container-id-5 div.sk-label input.sk-toggleable__control:checked~label.sk-toggleable__label {background-color: #d4ebff;}#sk-container-id-5 input.sk-hidden--visually {border: 0;clip: rect(1px 1px 1px 1px);clip: rect(1px, 1px, 1px, 1px);height: 1px;margin: -1px;overflow: hidden;padding: 0;position: absolute;width: 1px;}#sk-container-id-5 div.sk-estimator {font-family: monospace;background-color: #f0f8ff;border: 1px dotted black;border-radius: 0.25em;box-sizing: border-box;margin-bottom: 0.5em;}#sk-container-id-5 div.sk-estimator:hover {background-color: #d4ebff;}#sk-container-id-5 div.sk-parallel-item::after {content: \"\";width: 100%;border-bottom: 1px solid gray;flex-grow: 1;}#sk-container-id-5 div.sk-label:hover label.sk-toggleable__label {background-color: #d4ebff;}#sk-container-id-5 div.sk-serial::before {content: \"\";position: absolute;border-left: 1px solid gray;box-sizing: border-box;top: 0;bottom: 0;left: 50%;z-index: 0;}#sk-container-id-5 div.sk-serial {display: flex;flex-direction: column;align-items: center;background-color: white;padding-right: 0.2em;padding-left: 0.2em;position: relative;}#sk-container-id-5 div.sk-item {position: relative;z-index: 1;}#sk-container-id-5 div.sk-parallel {display: flex;align-items: stretch;justify-content: center;background-color: white;position: relative;}#sk-container-id-5 div.sk-item::before, #sk-container-id-5 div.sk-parallel-item::before {content: \"\";position: absolute;border-left: 1px solid gray;box-sizing: border-box;top: 0;bottom: 0;left: 50%;z-index: -1;}#sk-container-id-5 div.sk-parallel-item {display: flex;flex-direction: column;z-index: 1;position: relative;background-color: white;}#sk-container-id-5 div.sk-parallel-item:first-child::after {align-self: flex-end;width: 50%;}#sk-container-id-5 div.sk-parallel-item:last-child::after {align-self: flex-start;width: 50%;}#sk-container-id-5 div.sk-parallel-item:only-child::after {width: 0;}#sk-container-id-5 div.sk-dashed-wrapped {border: 1px dashed gray;margin: 0 0.4em 0.5em 0.4em;box-sizing: border-box;padding-bottom: 0.4em;background-color: white;}#sk-container-id-5 div.sk-label label {font-family: monospace;font-weight: bold;display: inline-block;line-height: 1.2em;}#sk-container-id-5 div.sk-label-container {text-align: center;}#sk-container-id-5 div.sk-container {/* jupyter's `normalize.less` sets `[hidden] { display: none; }` but bootstrap.min.css set `[hidden] { display: none !important; }` so we also need the `!important` here to be able to override the default hidden behavior on the sphinx rendered scikit-learn.org. See: https://github.com/scikit-learn/scikit-learn/issues/21755 */display: inline-block !important;position: relative;}#sk-container-id-5 div.sk-text-repr-fallback {display: none;}</style><div id=\"sk-container-id-5\" class=\"sk-top-container\"><div class=\"sk-text-repr-fallback\"><pre>RandomForestClassifier(criterion=&#x27;entropy&#x27;, random_state=0)</pre><b>In a Jupyter environment, please rerun this cell to show the HTML representation or trust the notebook. <br />On GitHub, the HTML representation is unable to render, please try loading this page with nbviewer.org.</b></div><div class=\"sk-container\" hidden><div class=\"sk-item\"><div class=\"sk-estimator sk-toggleable\"><input class=\"sk-toggleable__control sk-hidden--visually\" id=\"sk-estimator-id-5\" type=\"checkbox\" checked><label for=\"sk-estimator-id-5\" class=\"sk-toggleable__label sk-toggleable__label-arrow\">RandomForestClassifier</label><div class=\"sk-toggleable__content\"><pre>RandomForestClassifier(criterion=&#x27;entropy&#x27;, random_state=0)</pre></div></div></div></div></div>"
            ]
          },
          "metadata": {},
          "execution_count": 15
        }
      ]
    },
    {
      "cell_type": "markdown",
      "source": [
        "**Evaluation section**"
      ],
      "metadata": {
        "id": "GEk1cyb8XBwu"
      }
    },
    {
      "cell_type": "code",
      "source": [
        "logistic_regression.predict(sc.transform([[30, 87000]]))"
      ],
      "metadata": {
        "colab": {
          "base_uri": "https://localhost:8080/"
        },
        "id": "w06CXRssf5iC",
        "outputId": "a0155240-cb34-43ba-b7c3-e1d4ca5f66cd"
      },
      "execution_count": 16,
      "outputs": [
        {
          "output_type": "execute_result",
          "data": {
            "text/plain": [
              "array([0])"
            ]
          },
          "metadata": {},
          "execution_count": 16
        }
      ]
    },
    {
      "cell_type": "code",
      "source": [
        "knearest.predict(sc.transform([[30, 87000]]))"
      ],
      "metadata": {
        "colab": {
          "base_uri": "https://localhost:8080/"
        },
        "id": "fobMTqekXbyG",
        "outputId": "da43dbe9-1a7c-44e2-9e6b-15e7d8c80e1d"
      },
      "execution_count": 17,
      "outputs": [
        {
          "output_type": "execute_result",
          "data": {
            "text/plain": [
              "array([0])"
            ]
          },
          "metadata": {},
          "execution_count": 17
        }
      ]
    },
    {
      "cell_type": "code",
      "source": [
        "svm.predict(sc.transform([[30, 87000]]))"
      ],
      "metadata": {
        "colab": {
          "base_uri": "https://localhost:8080/"
        },
        "id": "t5l3VGgfxy61",
        "outputId": "194fd4b6-19db-4387-ff44-5cf028ef1e89"
      },
      "execution_count": 18,
      "outputs": [
        {
          "output_type": "execute_result",
          "data": {
            "text/plain": [
              "array([0])"
            ]
          },
          "metadata": {},
          "execution_count": 18
        }
      ]
    },
    {
      "cell_type": "code",
      "source": [
        "dt.predict(sc.transform([[30, 87000]]))"
      ],
      "metadata": {
        "colab": {
          "base_uri": "https://localhost:8080/"
        },
        "id": "lBlsTCeb6Vxf",
        "outputId": "39240db1-de5b-404a-f11c-a32769bcff31"
      },
      "execution_count": 19,
      "outputs": [
        {
          "output_type": "execute_result",
          "data": {
            "text/plain": [
              "array([0])"
            ]
          },
          "metadata": {},
          "execution_count": 19
        }
      ]
    },
    {
      "cell_type": "code",
      "source": [
        "rf.predict(sc.transform([[30, 87000]]))"
      ],
      "metadata": {
        "colab": {
          "base_uri": "https://localhost:8080/"
        },
        "id": "Ky1XbqQeFWh-",
        "outputId": "b28c25cd-42f6-4206-a1f9-d03723c09b51"
      },
      "execution_count": 20,
      "outputs": [
        {
          "output_type": "execute_result",
          "data": {
            "text/plain": [
              "array([0])"
            ]
          },
          "metadata": {},
          "execution_count": 20
        }
      ]
    },
    {
      "cell_type": "code",
      "source": [
        "y_logistic_predict = logistic_regression.predict(X_test)"
      ],
      "metadata": {
        "id": "joK3Hhuogk9l"
      },
      "execution_count": 21,
      "outputs": []
    },
    {
      "cell_type": "code",
      "source": [
        "y_knearest_predict = knearest.predict(X_test)"
      ],
      "metadata": {
        "id": "dsvXthPKXikF"
      },
      "execution_count": 22,
      "outputs": []
    },
    {
      "cell_type": "code",
      "source": [
        "y_svm_predict = svm.predict(X_test)"
      ],
      "metadata": {
        "id": "rbo12vboxoI2"
      },
      "execution_count": 23,
      "outputs": []
    },
    {
      "cell_type": "code",
      "source": [
        "y_dt_predict = dt.predict(X_test)"
      ],
      "metadata": {
        "id": "SfjR2Shd6Yh-"
      },
      "execution_count": 24,
      "outputs": []
    },
    {
      "cell_type": "code",
      "source": [
        "y_rf_predict = rf.predict(X_test)"
      ],
      "metadata": {
        "id": "VPNo1w0OFaqX"
      },
      "execution_count": 25,
      "outputs": []
    },
    {
      "cell_type": "markdown",
      "source": [
        "**Comparison of predicted with actual values**"
      ],
      "metadata": {
        "id": "HMN6xlHqxhQm"
      }
    },
    {
      "cell_type": "code",
      "source": [
        "y_pred_log_con = np.concatenate((y_logistic_predict.reshape(len(y_logistic_predict), 1), y_test.reshape(len(y_test), 1)), axis=1)\n",
        "y_pred_log_con"
      ],
      "metadata": {
        "id": "E7M62-jamXwR",
        "colab": {
          "base_uri": "https://localhost:8080/"
        },
        "outputId": "3d8befb9-a4c4-4528-85d6-904c8692e038"
      },
      "execution_count": 26,
      "outputs": [
        {
          "output_type": "execute_result",
          "data": {
            "text/plain": [
              "array([[0, 0],\n",
              "       [0, 0],\n",
              "       [0, 0],\n",
              "       [0, 0],\n",
              "       [0, 0],\n",
              "       [0, 0],\n",
              "       [0, 0],\n",
              "       [1, 1],\n",
              "       [0, 0],\n",
              "       [1, 0],\n",
              "       [0, 0],\n",
              "       [0, 0],\n",
              "       [0, 0],\n",
              "       [0, 0],\n",
              "       [0, 0],\n",
              "       [0, 0],\n",
              "       [0, 0],\n",
              "       [0, 0],\n",
              "       [1, 1],\n",
              "       [0, 0],\n",
              "       [0, 0],\n",
              "       [1, 1],\n",
              "       [0, 0],\n",
              "       [1, 1],\n",
              "       [0, 0],\n",
              "       [1, 1],\n",
              "       [0, 0],\n",
              "       [0, 0],\n",
              "       [0, 0],\n",
              "       [0, 0],\n",
              "       [0, 0],\n",
              "       [0, 1],\n",
              "       [1, 1],\n",
              "       [0, 0],\n",
              "       [0, 0],\n",
              "       [0, 0],\n",
              "       [0, 0],\n",
              "       [0, 0],\n",
              "       [0, 0],\n",
              "       [1, 1],\n",
              "       [0, 0],\n",
              "       [0, 0],\n",
              "       [0, 0],\n",
              "       [0, 0],\n",
              "       [1, 1],\n",
              "       [0, 0],\n",
              "       [0, 0],\n",
              "       [1, 1],\n",
              "       [0, 0],\n",
              "       [1, 1],\n",
              "       [1, 1],\n",
              "       [0, 0],\n",
              "       [0, 0],\n",
              "       [0, 0],\n",
              "       [1, 1],\n",
              "       [0, 1],\n",
              "       [0, 0],\n",
              "       [0, 0],\n",
              "       [0, 1],\n",
              "       [0, 0],\n",
              "       [0, 0],\n",
              "       [1, 1],\n",
              "       [0, 0],\n",
              "       [0, 1],\n",
              "       [0, 0],\n",
              "       [1, 1],\n",
              "       [0, 0],\n",
              "       [0, 0],\n",
              "       [0, 0],\n",
              "       [0, 0],\n",
              "       [1, 1],\n",
              "       [0, 0],\n",
              "       [0, 0],\n",
              "       [0, 1],\n",
              "       [0, 0],\n",
              "       [0, 0],\n",
              "       [1, 0],\n",
              "       [0, 0],\n",
              "       [1, 1],\n",
              "       [1, 1],\n",
              "       [1, 1],\n",
              "       [1, 0],\n",
              "       [0, 0],\n",
              "       [0, 0],\n",
              "       [1, 1],\n",
              "       [1, 1],\n",
              "       [0, 0],\n",
              "       [1, 1],\n",
              "       [0, 1],\n",
              "       [0, 0],\n",
              "       [0, 0],\n",
              "       [1, 1],\n",
              "       [0, 0],\n",
              "       [0, 0],\n",
              "       [0, 0],\n",
              "       [0, 1],\n",
              "       [0, 0],\n",
              "       [0, 1],\n",
              "       [1, 1],\n",
              "       [1, 1]])"
            ]
          },
          "metadata": {},
          "execution_count": 26
        }
      ]
    },
    {
      "cell_type": "code",
      "source": [
        "y_pred_kn_con = np.concatenate((y_knearest_predict.reshape(len(y_knearest_predict), 1), y_test.reshape(len(y_test), 1)), axis=1)\n",
        "y_pred_kn_con"
      ],
      "metadata": {
        "id": "ElMQ230CXmtM",
        "colab": {
          "base_uri": "https://localhost:8080/"
        },
        "outputId": "3224e132-2b37-4322-ea00-c6ab49dfd19a"
      },
      "execution_count": 27,
      "outputs": [
        {
          "output_type": "execute_result",
          "data": {
            "text/plain": [
              "array([[0, 0],\n",
              "       [0, 0],\n",
              "       [0, 0],\n",
              "       [0, 0],\n",
              "       [0, 0],\n",
              "       [0, 0],\n",
              "       [0, 0],\n",
              "       [1, 1],\n",
              "       [0, 0],\n",
              "       [1, 0],\n",
              "       [0, 0],\n",
              "       [0, 0],\n",
              "       [0, 0],\n",
              "       [0, 0],\n",
              "       [0, 0],\n",
              "       [1, 0],\n",
              "       [0, 0],\n",
              "       [0, 0],\n",
              "       [1, 1],\n",
              "       [0, 0],\n",
              "       [0, 0],\n",
              "       [1, 1],\n",
              "       [0, 0],\n",
              "       [1, 1],\n",
              "       [0, 0],\n",
              "       [1, 1],\n",
              "       [0, 0],\n",
              "       [0, 0],\n",
              "       [0, 0],\n",
              "       [0, 0],\n",
              "       [0, 0],\n",
              "       [0, 1],\n",
              "       [1, 1],\n",
              "       [0, 0],\n",
              "       [0, 0],\n",
              "       [0, 0],\n",
              "       [0, 0],\n",
              "       [0, 0],\n",
              "       [0, 0],\n",
              "       [1, 1],\n",
              "       [0, 0],\n",
              "       [0, 0],\n",
              "       [0, 0],\n",
              "       [0, 0],\n",
              "       [1, 1],\n",
              "       [0, 0],\n",
              "       [0, 0],\n",
              "       [1, 1],\n",
              "       [0, 0],\n",
              "       [1, 1],\n",
              "       [1, 1],\n",
              "       [0, 0],\n",
              "       [0, 0],\n",
              "       [1, 0],\n",
              "       [1, 1],\n",
              "       [1, 1],\n",
              "       [0, 0],\n",
              "       [0, 0],\n",
              "       [1, 1],\n",
              "       [0, 0],\n",
              "       [0, 0],\n",
              "       [1, 1],\n",
              "       [0, 0],\n",
              "       [1, 1],\n",
              "       [0, 0],\n",
              "       [1, 1],\n",
              "       [0, 0],\n",
              "       [0, 0],\n",
              "       [0, 0],\n",
              "       [0, 0],\n",
              "       [1, 1],\n",
              "       [0, 0],\n",
              "       [0, 0],\n",
              "       [1, 1],\n",
              "       [0, 0],\n",
              "       [0, 0],\n",
              "       [0, 0],\n",
              "       [0, 0],\n",
              "       [1, 1],\n",
              "       [1, 1],\n",
              "       [1, 1],\n",
              "       [1, 0],\n",
              "       [0, 0],\n",
              "       [0, 0],\n",
              "       [1, 1],\n",
              "       [0, 1],\n",
              "       [0, 0],\n",
              "       [1, 1],\n",
              "       [1, 1],\n",
              "       [0, 0],\n",
              "       [0, 0],\n",
              "       [1, 1],\n",
              "       [0, 0],\n",
              "       [0, 0],\n",
              "       [0, 0],\n",
              "       [0, 1],\n",
              "       [0, 0],\n",
              "       [1, 1],\n",
              "       [1, 1],\n",
              "       [1, 1]])"
            ]
          },
          "metadata": {},
          "execution_count": 27
        }
      ]
    },
    {
      "cell_type": "code",
      "source": [
        "y_svm_predict_con = np.concatenate((y_svm_predict.reshape(len(y_svm_predict), 1), y_test.reshape(len(y_test), 1)), axis=1)\n",
        "y_svm_predict_con"
      ],
      "metadata": {
        "id": "IwYe0OI1x6uH",
        "colab": {
          "base_uri": "https://localhost:8080/"
        },
        "outputId": "6dce7bde-408d-4a83-c069-dc183a9ffb88"
      },
      "execution_count": 28,
      "outputs": [
        {
          "output_type": "execute_result",
          "data": {
            "text/plain": [
              "array([[0, 0],\n",
              "       [0, 0],\n",
              "       [0, 0],\n",
              "       [0, 0],\n",
              "       [0, 0],\n",
              "       [0, 0],\n",
              "       [0, 0],\n",
              "       [1, 1],\n",
              "       [0, 0],\n",
              "       [1, 0],\n",
              "       [0, 0],\n",
              "       [0, 0],\n",
              "       [0, 0],\n",
              "       [0, 0],\n",
              "       [0, 0],\n",
              "       [1, 0],\n",
              "       [0, 0],\n",
              "       [0, 0],\n",
              "       [1, 1],\n",
              "       [0, 0],\n",
              "       [0, 0],\n",
              "       [1, 1],\n",
              "       [0, 0],\n",
              "       [1, 1],\n",
              "       [0, 0],\n",
              "       [1, 1],\n",
              "       [0, 0],\n",
              "       [0, 0],\n",
              "       [0, 0],\n",
              "       [0, 0],\n",
              "       [0, 0],\n",
              "       [0, 1],\n",
              "       [1, 1],\n",
              "       [0, 0],\n",
              "       [0, 0],\n",
              "       [0, 0],\n",
              "       [0, 0],\n",
              "       [0, 0],\n",
              "       [0, 0],\n",
              "       [1, 1],\n",
              "       [0, 0],\n",
              "       [0, 0],\n",
              "       [0, 0],\n",
              "       [0, 0],\n",
              "       [1, 1],\n",
              "       [0, 0],\n",
              "       [0, 0],\n",
              "       [1, 1],\n",
              "       [0, 0],\n",
              "       [1, 1],\n",
              "       [1, 1],\n",
              "       [0, 0],\n",
              "       [0, 0],\n",
              "       [1, 0],\n",
              "       [1, 1],\n",
              "       [1, 1],\n",
              "       [0, 0],\n",
              "       [0, 0],\n",
              "       [1, 1],\n",
              "       [0, 0],\n",
              "       [0, 0],\n",
              "       [1, 1],\n",
              "       [0, 0],\n",
              "       [1, 1],\n",
              "       [0, 0],\n",
              "       [1, 1],\n",
              "       [0, 0],\n",
              "       [0, 0],\n",
              "       [0, 0],\n",
              "       [0, 0],\n",
              "       [1, 1],\n",
              "       [0, 0],\n",
              "       [0, 0],\n",
              "       [1, 1],\n",
              "       [0, 0],\n",
              "       [0, 0],\n",
              "       [0, 0],\n",
              "       [0, 0],\n",
              "       [1, 1],\n",
              "       [1, 1],\n",
              "       [1, 1],\n",
              "       [1, 0],\n",
              "       [0, 0],\n",
              "       [0, 0],\n",
              "       [1, 1],\n",
              "       [0, 1],\n",
              "       [0, 0],\n",
              "       [1, 1],\n",
              "       [1, 1],\n",
              "       [0, 0],\n",
              "       [0, 0],\n",
              "       [1, 1],\n",
              "       [0, 0],\n",
              "       [0, 0],\n",
              "       [0, 0],\n",
              "       [0, 1],\n",
              "       [0, 0],\n",
              "       [1, 1],\n",
              "       [1, 1],\n",
              "       [1, 1]])"
            ]
          },
          "metadata": {},
          "execution_count": 28
        }
      ]
    },
    {
      "cell_type": "code",
      "source": [
        "y_dt_predict_con = np.concatenate((y_dt_predict.reshape(len(y_dt_predict), 1), y_test.reshape(len(y_test), 1)), axis=1)\n",
        "y_dt_predict"
      ],
      "metadata": {
        "colab": {
          "base_uri": "https://localhost:8080/"
        },
        "id": "QqkPyL626fYt",
        "outputId": "8da4e95d-8474-4d54-d765-7c526487f959"
      },
      "execution_count": 29,
      "outputs": [
        {
          "output_type": "execute_result",
          "data": {
            "text/plain": [
              "array([0, 0, 0, 0, 0, 0, 0, 1, 0, 0, 0, 0, 0, 1, 0, 1, 1, 0, 1, 0, 0, 1,\n",
              "       0, 1, 0, 0, 0, 0, 0, 0, 0, 0, 1, 0, 0, 0, 0, 0, 0, 1, 0, 0, 0, 0,\n",
              "       1, 0, 0, 1, 0, 1, 1, 0, 0, 1, 1, 1, 0, 0, 1, 0, 0, 1, 0, 1, 0, 1,\n",
              "       0, 0, 0, 1, 1, 0, 0, 1, 0, 0, 0, 0, 1, 1, 1, 1, 0, 0, 1, 0, 0, 1,\n",
              "       1, 0, 0, 1, 0, 0, 0, 1, 0, 1, 1, 1])"
            ]
          },
          "metadata": {},
          "execution_count": 29
        }
      ]
    },
    {
      "cell_type": "code",
      "source": [
        "y_rf_predict_con = np.concatenate((y_rf_predict.reshape(len(y_rf_predict), 1), y_test.reshape(len(y_test), 1)), axis=1)\n",
        "y_rf_predict"
      ],
      "metadata": {
        "colab": {
          "base_uri": "https://localhost:8080/"
        },
        "id": "231PIOvTFjot",
        "outputId": "f9843170-b8cb-4b89-a61d-fb0bc4e059e1"
      },
      "execution_count": 30,
      "outputs": [
        {
          "output_type": "execute_result",
          "data": {
            "text/plain": [
              "array([0, 0, 0, 0, 0, 0, 0, 1, 0, 1, 0, 0, 0, 0, 0, 1, 1, 0, 1, 0, 0, 1,\n",
              "       0, 1, 0, 0, 0, 0, 0, 0, 0, 0, 1, 0, 0, 0, 0, 0, 0, 1, 0, 0, 0, 0,\n",
              "       1, 0, 0, 1, 0, 1, 1, 0, 0, 0, 1, 1, 0, 0, 1, 0, 0, 1, 0, 1, 0, 1,\n",
              "       0, 0, 0, 1, 1, 0, 0, 1, 0, 0, 0, 0, 1, 1, 1, 1, 0, 0, 1, 0, 0, 1,\n",
              "       1, 0, 0, 1, 0, 0, 0, 0, 0, 1, 1, 1])"
            ]
          },
          "metadata": {},
          "execution_count": 30
        }
      ]
    },
    {
      "cell_type": "code",
      "source": [
        "from sklearn.metrics import confusion_matrix, accuracy_score\n",
        "cm = confusion_matrix(y_test, y_logistic_predict)\n",
        "acc = accuracy_score(y_test, y_logistic_predict)\n",
        "cm_two = confusion_matrix(y_test, y_knearest_predict)\n",
        "acc_two = accuracy_score(y_test, y_knearest_predict)\n",
        "cm_three = confusion_matrix(y_test, y_svm_predict)\n",
        "acc_three = accuracy_score(y_test, y_svm_predict)\n",
        "cm_four = confusion_matrix(y_test, y_dt_predict)\n",
        "acc_four = accuracy_score(y_test, y_dt_predict)\n",
        "cm_five = confusion_matrix(y_test, y_rf_predict)\n",
        "acc_five = accuracy_score(y_test, y_rf_predict)"
      ],
      "metadata": {
        "id": "Plllcanym3mE"
      },
      "execution_count": 32,
      "outputs": []
    },
    {
      "cell_type": "code",
      "source": [
        "cm"
      ],
      "metadata": {
        "id": "2An_4PMcrbfv",
        "colab": {
          "base_uri": "https://localhost:8080/"
        },
        "outputId": "dcc36aeb-d256-4943-89c1-5a0e35c5c5a9"
      },
      "execution_count": 33,
      "outputs": [
        {
          "output_type": "execute_result",
          "data": {
            "text/plain": [
              "array([[65,  3],\n",
              "       [ 8, 24]])"
            ]
          },
          "metadata": {},
          "execution_count": 33
        }
      ]
    },
    {
      "cell_type": "code",
      "source": [
        "acc"
      ],
      "metadata": {
        "id": "5H1TaDeepCYV",
        "colab": {
          "base_uri": "https://localhost:8080/"
        },
        "outputId": "1d41838c-dba8-4aa1-dab1-1d224a7881b4"
      },
      "execution_count": 34,
      "outputs": [
        {
          "output_type": "execute_result",
          "data": {
            "text/plain": [
              "0.89"
            ]
          },
          "metadata": {},
          "execution_count": 34
        }
      ]
    },
    {
      "cell_type": "code",
      "source": [
        "cm_two"
      ],
      "metadata": {
        "id": "UpTJIUt3YQgG",
        "colab": {
          "base_uri": "https://localhost:8080/"
        },
        "outputId": "4e08d110-f89e-483c-d589-f4edf09b1e04"
      },
      "execution_count": 35,
      "outputs": [
        {
          "output_type": "execute_result",
          "data": {
            "text/plain": [
              "array([[64,  4],\n",
              "       [ 3, 29]])"
            ]
          },
          "metadata": {},
          "execution_count": 35
        }
      ]
    },
    {
      "cell_type": "code",
      "source": [
        "acc_two"
      ],
      "metadata": {
        "id": "vraHaSBPYQhw",
        "colab": {
          "base_uri": "https://localhost:8080/"
        },
        "outputId": "a0c73059-4afd-41f5-f6f2-8a7c8e233738"
      },
      "execution_count": 36,
      "outputs": [
        {
          "output_type": "execute_result",
          "data": {
            "text/plain": [
              "0.93"
            ]
          },
          "metadata": {},
          "execution_count": 36
        }
      ]
    },
    {
      "cell_type": "code",
      "source": [
        "cm_three"
      ],
      "metadata": {
        "colab": {
          "base_uri": "https://localhost:8080/"
        },
        "id": "vmFz8xGuySRF",
        "outputId": "fb0ed2cf-526b-474e-93ba-3689ebcee909"
      },
      "execution_count": 37,
      "outputs": [
        {
          "output_type": "execute_result",
          "data": {
            "text/plain": [
              "array([[64,  4],\n",
              "       [ 3, 29]])"
            ]
          },
          "metadata": {},
          "execution_count": 37
        }
      ]
    },
    {
      "cell_type": "code",
      "source": [
        "acc_three"
      ],
      "metadata": {
        "colab": {
          "base_uri": "https://localhost:8080/"
        },
        "id": "W7idnv4yySTF",
        "outputId": "78b7c0f4-3b59-45bc-8f9a-6aace217f813"
      },
      "execution_count": 38,
      "outputs": [
        {
          "output_type": "execute_result",
          "data": {
            "text/plain": [
              "0.93"
            ]
          },
          "metadata": {},
          "execution_count": 38
        }
      ]
    },
    {
      "cell_type": "code",
      "source": [
        "cm_four"
      ],
      "metadata": {
        "id": "m9lhB7nnyTpR",
        "colab": {
          "base_uri": "https://localhost:8080/"
        },
        "outputId": "e38e9685-5697-47ea-d466-bf121a85e5c6"
      },
      "execution_count": 39,
      "outputs": [
        {
          "output_type": "execute_result",
          "data": {
            "text/plain": [
              "array([[62,  6],\n",
              "       [ 3, 29]])"
            ]
          },
          "metadata": {},
          "execution_count": 39
        }
      ]
    },
    {
      "cell_type": "code",
      "source": [
        "acc_four"
      ],
      "metadata": {
        "colab": {
          "base_uri": "https://localhost:8080/"
        },
        "id": "hwygy17h8H-Z",
        "outputId": "b989fc00-eb28-42da-ee78-4d97492f6974"
      },
      "execution_count": 40,
      "outputs": [
        {
          "output_type": "execute_result",
          "data": {
            "text/plain": [
              "0.91"
            ]
          },
          "metadata": {},
          "execution_count": 40
        }
      ]
    },
    {
      "cell_type": "code",
      "source": [
        "cm_five"
      ],
      "metadata": {
        "colab": {
          "base_uri": "https://localhost:8080/"
        },
        "id": "D2NTNd6F8IWl",
        "outputId": "23696d0d-8d36-434a-eee5-0bb08a92a154"
      },
      "execution_count": 41,
      "outputs": [
        {
          "output_type": "execute_result",
          "data": {
            "text/plain": [
              "array([[63,  5],\n",
              "       [ 4, 28]])"
            ]
          },
          "metadata": {},
          "execution_count": 41
        }
      ]
    },
    {
      "cell_type": "code",
      "source": [
        "acc_five"
      ],
      "metadata": {
        "colab": {
          "base_uri": "https://localhost:8080/"
        },
        "id": "A_CA2xoUF3zq",
        "outputId": "1d15abd2-9ff5-492f-8c0d-339cfeda2c4e"
      },
      "execution_count": 42,
      "outputs": [
        {
          "output_type": "execute_result",
          "data": {
            "text/plain": [
              "0.91"
            ]
          },
          "metadata": {},
          "execution_count": 42
        }
      ]
    },
    {
      "cell_type": "code",
      "source": [
        "from sklearn.model_selection import cross_val_score\n",
        "accuracies = cross_val_score(estimator = svm, X = X_train, y = y_train, cv = 10)"
      ],
      "metadata": {
        "id": "DVMIIkkVF7CR"
      },
      "execution_count": 44,
      "outputs": []
    },
    {
      "cell_type": "code",
      "source": [
        "accuracies"
      ],
      "metadata": {
        "colab": {
          "base_uri": "https://localhost:8080/"
        },
        "id": "lQ8IJfzsjGfm",
        "outputId": "a06f1b56-c64d-474a-c864-397e449f9364"
      },
      "execution_count": 45,
      "outputs": [
        {
          "output_type": "execute_result",
          "data": {
            "text/plain": [
              "array([0.8       , 0.96666667, 0.8       , 0.96666667, 0.86666667,\n",
              "       0.86666667, 0.9       , 0.93333333, 1.        , 0.93333333])"
            ]
          },
          "metadata": {},
          "execution_count": 45
        }
      ]
    },
    {
      "cell_type": "code",
      "source": [
        "accuracies.mean()"
      ],
      "metadata": {
        "colab": {
          "base_uri": "https://localhost:8080/"
        },
        "id": "WtWyZAiHj3xm",
        "outputId": "6fd395fd-1d5f-4406-f371-4c96143e2dbe"
      },
      "execution_count": 46,
      "outputs": [
        {
          "output_type": "execute_result",
          "data": {
            "text/plain": [
              "0.9033333333333333"
            ]
          },
          "metadata": {},
          "execution_count": 46
        }
      ]
    },
    {
      "cell_type": "code",
      "source": [
        "accuracies.std()"
      ],
      "metadata": {
        "colab": {
          "base_uri": "https://localhost:8080/"
        },
        "id": "jxT2Vo_Kj_DL",
        "outputId": "341421db-6c25-4683-ad1a-22f82c29fd33"
      },
      "execution_count": 47,
      "outputs": [
        {
          "output_type": "execute_result",
          "data": {
            "text/plain": [
              "0.06574360974438671"
            ]
          },
          "metadata": {},
          "execution_count": 47
        }
      ]
    },
    {
      "cell_type": "code",
      "source": [],
      "metadata": {
        "id": "GpyUe3cojonp"
      },
      "execution_count": null,
      "outputs": []
    }
  ]
}